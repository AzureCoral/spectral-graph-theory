{
 "cells": [
  {
   "cell_type": "code",
   "execution_count": 2,
   "metadata": {},
   "outputs": [],
   "source": [
    "from manim import *\n",
    "\n",
    "config.media_width = \"75%\"\n",
    "config.verbosity = \"WARNING\""
   ]
  },
  {
   "cell_type": "code",
   "execution_count": 7,
   "metadata": {},
   "outputs": [
    {
     "data": {
      "text/html": [
       "<pre style=\"white-space:pre;overflow-x:auto;line-height:normal;font-family:Menlo,'DejaVu Sans Mono',consolas,'Courier New',monospace\">Manim Community <span style=\"color: #008000; text-decoration-color: #008000\">v0.18.1</span>\n",
       "\n",
       "</pre>\n"
      ],
      "text/plain": [
       "Manim Community \u001b[32mv0.\u001b[0m\u001b[32m18.1\u001b[0m\n",
       "\n"
      ]
     },
     "metadata": {},
     "output_type": "display_data"
    },
    {
     "name": "stderr",
     "output_type": "stream",
     "text": [
      "                                                                                                              \r"
     ]
    },
    {
     "data": {
      "text/html": [
       "<video src=\"media/jupyter/TransformEquation@2024-10-05@17-50-39.mp4\" controls autoplay loop style=\"max-width: 75%;\"  >\n",
       "      Your browser does not support the <code>video</code> element.\n",
       "    </video>"
      ],
      "text/plain": [
       "<IPython.core.display.Video object>"
      ]
     },
     "metadata": {},
     "output_type": "display_data"
    }
   ],
   "source": [
    "%%manim -qm TransformEquation\n",
    "\n",
    "class TransformEquation(Scene):\n",
    "    def construct(self):\n",
    "        eq1 = MathTex(\"42 {{ a^2 }} + {{ b^2 }} = {{ c^2 }}\")\n",
    "        eq2 = MathTex(\"42 {{ a^2 }} = {{ c^2 }} - {{ b^2 }}\")\n",
    "        eq3 = MathTex(r\"a^2 = \\frac{c^2 - b^2}{42}\")\n",
    "        self.play(Write(eq1), run_time=3)\n",
    "\n",
    "        self.wait()\n",
    "        self.play(TransformMatchingTex(eq1, eq2))\n",
    "        self.wait()\n",
    "        self.play(TransformMatchingShapes(eq2, eq3))\n",
    "        self.wait()"
   ]
  },
  {
   "cell_type": "code",
   "execution_count": 141,
   "metadata": {},
   "outputs": [
    {
     "data": {
      "text/html": [
       "<pre style=\"white-space:pre;overflow-x:auto;line-height:normal;font-family:Menlo,'DejaVu Sans Mono',consolas,'Courier New',monospace\">Manim Community <span style=\"color: #008000; text-decoration-color: #008000\">v0.18.1</span>\n",
       "\n",
       "</pre>\n"
      ],
      "text/plain": [
       "Manim Community \u001b[32mv0.\u001b[0m\u001b[32m18.1\u001b[0m\n",
       "\n"
      ]
     },
     "metadata": {},
     "output_type": "display_data"
    },
    {
     "name": "stderr",
     "output_type": "stream",
     "text": [
      "                                                                                                                                   \r"
     ]
    },
    {
     "data": {
      "text/html": [
       "<video src=\"media/jupyter/LaplacianDefinition@2024-10-07@21-52-16.mp4\" controls autoplay loop style=\"max-width: 75%;\"  >\n",
       "      Your browser does not support the <code>video</code> element.\n",
       "    </video>"
      ],
      "text/plain": [
       "<IPython.core.display.Video object>"
      ]
     },
     "metadata": {},
     "output_type": "display_data"
    }
   ],
   "source": [
    "%%manim -qh LaplacianDefinition\n",
    "\n",
    "class LaplacianDefinition(Scene):\n",
    "    def construct(self):\n",
    "        def1 = MathTex(r\"\\boldsymbol{L}:=\\boldsymbol{D}-\\boldsymbol{A}\")\n",
    "        self.play(Write(def1), run_time=3)\n",
    "        self.wait()\n",
    "        self.play(FadeOut(def1))"
   ]
  },
  {
   "cell_type": "code",
   "execution_count": 143,
   "metadata": {},
   "outputs": [
    {
     "data": {
      "text/html": [
       "<pre style=\"white-space:pre;overflow-x:auto;line-height:normal;font-family:Menlo,'DejaVu Sans Mono',consolas,'Courier New',monospace\">Manim Community <span style=\"color: #008000; text-decoration-color: #008000\">v0.18.1</span>\n",
       "\n",
       "</pre>\n"
      ],
      "text/plain": [
       "Manim Community \u001b[32mv0.\u001b[0m\u001b[32m18.1\u001b[0m\n",
       "\n"
      ]
     },
     "metadata": {},
     "output_type": "display_data"
    },
    {
     "name": "stderr",
     "output_type": "stream",
     "text": [
      "                                                                                                                \r"
     ]
    },
    {
     "data": {
      "text/html": [
       "<video src=\"media/jupyter/LaplacianExample@2024-10-07@21-52-55.mp4\" controls autoplay loop style=\"max-width: 75%;\"  >\n",
       "      Your browser does not support the <code>video</code> element.\n",
       "    </video>"
      ],
      "text/plain": [
       "<IPython.core.display.Video object>"
      ]
     },
     "metadata": {},
     "output_type": "display_data"
    }
   ],
   "source": [
    "%%manim -qh LaplacianExample\n",
    "\n",
    "\n",
    "# The Laplacian Matrix of a weighted graph $G=(V,E,w),w:E\\to\\mathbb{R}^+$, is designed to capture the\n",
    "\n",
    "# Laplacian quadratic form:\n",
    "\n",
    "# (3.1)\n",
    "\n",
    "# $$\\boldsymbol{x}^T\\boldsymbol{L}_G\\boldsymbol{x}=\\sum_{(a,b)\\in E}w_{a,b}(\\boldsymbol{x}(a)-\\boldsymbol{x}(b))^2.$$\n",
    "\n",
    "class LaplacianExample(Scene):\n",
    "    def construct(self):\n",
    "\n",
    "        vertices = [1, 2, 3, 4, 5]\n",
    "        edges = [(1, 2), (1, 3), (2, 3), (2, 4), (2, 5), (3, 4)]\n",
    "        g = Graph(vertices, edges, layout=\"circular\").scale(.5)\n",
    "        self.play(Create(g), run_time=2)\n",
    "        self.wait()\n",
    "\n",
    "\n",
    "        self.play(g.animate.shift(LEFT * 3), run_time=2)\n",
    "\n",
    "        adj_matrix = [\n",
    "            [0, 1, 1, 0, 0],\n",
    "            [1, 0, 1, 1, 1],\n",
    "            [1, 1, 0, 1, 0],\n",
    "            [0, 1, 1, 0, 0],\n",
    "            [0, 1, 0, 0, 0],\n",
    "        ]\n",
    "        deg_matrix = [\n",
    "            [2, 0, 0, 0, 0],\n",
    "            [0, 4, 0, 0, 0],\n",
    "            [0, 0, 3, 0, 0],\n",
    "            [0, 0, 0, 2, 0],\n",
    "            [0, 0, 0, 0, 1],\n",
    "        ]\n",
    "\n",
    "        adj_label = MathTex(r\"\\boldsymbol{A}\").scale(.5)\n",
    "        deg_label = MathTex(r\"\\boldsymbol{D}\").scale(.5)\n",
    "        lap_label = MathTex(r\"\\boldsymbol{L}\").scale(.5)\n",
    "\n",
    "        laplacian = [[adj_matrix[i][j] - deg_matrix[i][j] for j in range(5)] for i in range(5)]\n",
    "        adj = Matrix(adj_matrix, v_buff=.6, h_buff=.6).scale(.5)\n",
    "        minus = MathTex(\"-\").scale(.5).next_to(adj, RIGHT)\n",
    "        deg = Matrix(deg_matrix, v_buff=.6, h_buff=.6).scale(.5).next_to(minus, RIGHT)\n",
    "        lap = Matrix(laplacian, v_buff=.6, h_buff=.6).scale(.5)\n",
    "\n",
    "        adj_label.next_to(adj, UP)\n",
    "        deg_label.next_to(deg, UP)\n",
    "        lap_label.next_to(lap, UP)\n",
    "        \n",
    "        self.play(Create(adj), Create(adj_label), run_time=1)\n",
    "        self.play(Create(minus), run_time=.1)\n",
    "        self.play(Create(deg), Create(deg_label), run_time=1)\n",
    "        self.play(FadeOut(minus), run_time=.5)\n",
    "        self.play(FadeOut(deg, shift=LEFT * 2), FadeOut(deg_label, shift=LEFT * 2), run_time=1)\n",
    "        self.play(TransformMatchingShapes(adj, lap), Create(lap_label), run_time=.5)\n",
    "        self.wait()"
   ]
  },
  {
   "cell_type": "code",
   "execution_count": 4,
   "metadata": {},
   "outputs": [
    {
     "data": {
      "text/html": [
       "<pre style=\"white-space:pre;overflow-x:auto;line-height:normal;font-family:Menlo,'DejaVu Sans Mono',consolas,'Courier New',monospace\">Manim Community <span style=\"color: #008000; text-decoration-color: #008000\">v0.18.1</span>\n",
       "\n",
       "</pre>\n"
      ],
      "text/plain": [
       "Manim Community \u001b[32mv0.\u001b[0m\u001b[32m18.1\u001b[0m\n",
       "\n"
      ]
     },
     "metadata": {},
     "output_type": "display_data"
    },
    {
     "name": "stderr",
     "output_type": "stream",
     "text": [
      "                                                                                                                                                                                                                                                                                                         \r"
     ]
    },
    {
     "data": {
      "text/html": [
       "<video src=\"media/jupyter/LaplacianLemma@2024-10-07@22-05-49.mp4\" controls autoplay loop style=\"max-width: 75%;\"  >\n",
       "      Your browser does not support the <code>video</code> element.\n",
       "    </video>"
      ],
      "text/plain": [
       "<IPython.core.display.Video object>"
      ]
     },
     "metadata": {},
     "output_type": "display_data"
    }
   ],
   "source": [
    "%%manim -qh LaplacianLemma\n",
    "# \\textbf{Lemma 3.1.1 } Let $G=(V,E)$ be a graph, and let $0=\\lambda_1\\leq\\lambda_2\\leq\\cdots\\leq\\lambda_n$ be the eigenvalues of its Laplacian matrix, $L$. Then, $\\lambda_{2}>0$ if and only if $G$ is connected.\n",
    "\n",
    "class LaplacianLemma(Scene):\n",
    "    def construct(self):\n",
    "        lemma = Tex(\n",
    "            r\"{\\textbf{Lemma 3.1.1} Let $G=(V,E)$ be a graph, and let $0=\\lambda_1\\leq\\lambda_2\\leq\\cdots\\leq\\lambda_n$ be the eigenvalues of its Laplacian matrix, $L$. Then, $\\lambda_{2}>0$ if and only if $G$ is connected.}\",\n",
    "        ).scale(.7)\n",
    "        self.play(Write(lemma), run_time=3)\n",
    "        self.wait(2)\n",
    "        short_lemma = Tex(r\"WTS: $\\lambda_{2}>0 \\Leftrightarrow G \\text{ is connected}$\").scale(.7)\n",
    "\n",
    "        self.play(TransformMatchingShapes(lemma, short_lemma), run_time=1)\n",
    "\n",
    "        self.wait(2)"
   ]
  },
  {
   "cell_type": "code",
   "execution_count": 117,
   "metadata": {},
   "outputs": [
    {
     "data": {
      "text/html": [
       "<pre style=\"white-space:pre;overflow-x:auto;line-height:normal;font-family:Menlo,'DejaVu Sans Mono',consolas,'Courier New',monospace\">Manim Community <span style=\"color: #008000; text-decoration-color: #008000\">v0.18.1</span>\n",
       "\n",
       "</pre>\n"
      ],
      "text/plain": [
       "Manim Community \u001b[32mv0.\u001b[0m\u001b[32m18.1\u001b[0m\n",
       "\n"
      ]
     },
     "metadata": {},
     "output_type": "display_data"
    },
    {
     "name": "stderr",
     "output_type": "stream",
     "text": [
      "                                                                                                            \r"
     ]
    },
    {
     "data": {
      "text/html": [
       "<video src=\"media/jupyter/LaplacianLemmaForward@2024-10-07@19-06-33.mp4\" controls autoplay loop style=\"max-width: 75%;\"  >\n",
       "      Your browser does not support the <code>video</code> element.\n",
       "    </video>"
      ],
      "text/plain": [
       "<IPython.core.display.Video object>"
      ]
     },
     "metadata": {},
     "output_type": "display_data"
    }
   ],
   "source": [
    "%%manim -qh LaplacianLemmaForward\n",
    "# Consider when G is not connected\n",
    "\n",
    "class LaplacianLemmaForward(Scene):\n",
    "    def construct(self):\n",
    "        consider = Tex(r\"Consider when $G$ is not connected\").scale(.7)\n",
    "\n",
    "        self.play(Write(consider), run_time=2)\n",
    "\n",
    "        self.wait()\n",
    "\n",
    "        self.play(FadeOut(consider), run_time=1)\n",
    "\n",
    "        # Create two disconnected graphs\n",
    "\n",
    "        G = MathTex(r\"G\").shift(UP * 2)\n",
    "        self.play(Write(G), run_time=1)\n",
    "\n",
    "\n",
    "        vertices1 = [1, 2, 3, 4]\n",
    "        edges1 = [(1, 2), (2, 3), (3, 4)]\n",
    "        g1 = Graph(vertices1, edges1, layout=\"circular\").scale(.5).shift(LEFT * 1.5)\n",
    "\n",
    "        vertices2 = [5, 6, 7]\n",
    "        edges2 = [(5, 6), (6, 7)]\n",
    "        g2 = Graph(vertices2, edges2, layout=\"circular\").scale(.5).shift(RIGHT * 1.5)\n",
    "\n",
    "        self.play(Create(g1), Create(g2), run_time=2)\n",
    "\n",
    "        # Split G into G1 and G2\n",
    "\n",
    "        G1 = MathTex(r\"G_1\").next_to(g1, UP)\n",
    "        G2 = MathTex(r\"G_2\").next_to(g2, UP)\n",
    "        self.play(ReplacementTransform(G, G1), ReplacementTransform(G.copy(), G2), run_time=2)\n",
    "\n",
    "        # Create the Laplacian matrices\n",
    "        AD_1 = MathTex(r\"A_1 - D_1\").scale(.5).next_to(g1, DOWN)\n",
    "        AD_2 = MathTex(r\"A_2 - D_2\").scale(.5).next_to(g2, DOWN)\n",
    "        L_1 = MathTex(r\"L_1\").scale(.5).next_to(g1, DOWN)\n",
    "        L_2 = MathTex(r\"L_2\").scale(.5).next_to(g2, DOWN)\n",
    "\n",
    "        self.play(Create(AD_1), Create(AD_2), run_time=2)\n",
    "        \n",
    "        self.play(ReplacementTransform(AD_1, L_1), ReplacementTransform(AD_2, L_2), run_time=2)\n",
    "\n",
    "        self.wait()\n",
    "\n",
    "        G = MathTex(r\"G\").shift(UP * 3)\n",
    "\n",
    "\n",
    "        # Create the Laplacian matrix of the combined graph\n",
    "        L = MobjectMatrix([\n",
    "            [MathTex(\"L_1\"), MathTex(r\"\\mathbf{0}\")],\n",
    "            [MathTex(r\"\\mathbf{0}\"), MathTex(r\"L_2\")]\n",
    "        ]).shift(DOWN * 1.5)\n",
    "\n",
    "        self.play(ReplacementTransform(G1, G), ReplacementTransform(G2, G), g1.animate.shift(UP), g2.animate.shift(UP), ReplacementTransform(L_1, L), ReplacementTransform(L_2, L), run_time=1.5)\n",
    "\n",
    "        self.wait()\n",
    "\n",
    "\n"
   ]
  },
  {
   "cell_type": "code",
   "execution_count": null,
   "metadata": {},
   "outputs": [],
   "source": []
  }
 ],
 "metadata": {
  "kernelspec": {
   "display_name": "base",
   "language": "python",
   "name": "python3"
  },
  "language_info": {
   "codemirror_mode": {
    "name": "ipython",
    "version": 3
   },
   "file_extension": ".py",
   "mimetype": "text/x-python",
   "name": "python",
   "nbconvert_exporter": "python",
   "pygments_lexer": "ipython3",
   "version": "3.11.5"
  }
 },
 "nbformat": 4,
 "nbformat_minor": 2
}
