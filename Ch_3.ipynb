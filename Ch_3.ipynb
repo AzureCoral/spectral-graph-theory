{
 "cells": [
  {
   "cell_type": "code",
   "execution_count": 1,
   "metadata": {},
   "outputs": [],
   "source": [
    "from manim import *\n",
    "\n",
    "config.media_width = \"75%\"\n",
    "config.verbosity = \"WARNING\"\n",
    "\n",
    "custom_tex_template = TexTemplate(\n",
    "    documentclass=r\"\\documentclass[preview, varwidth=285px]{standalone}\"\n",
    ")\n",
    "custom_tex_template.add_to_preamble(r\"\\usepackage[charter]{mathdesign}\")\n",
    "MathTex.set_default(tex_template=custom_tex_template)\n",
    "Tex.set_default(tex_template=custom_tex_template)"
   ]
  },
  {
   "cell_type": "code",
   "execution_count": 2,
   "metadata": {},
   "outputs": [
    {
     "data": {
      "text/html": [
       "<pre style=\"white-space:pre;overflow-x:auto;line-height:normal;font-family:Menlo,'DejaVu Sans Mono',consolas,'Courier New',monospace\">Manim Community <span style=\"color: #008000; text-decoration-color: #008000\">v0.18.1</span>\n",
       "\n",
       "</pre>\n"
      ],
      "text/plain": [
       "Manim Community \u001b[32mv0.\u001b[0m\u001b[32m18.1\u001b[0m\n",
       "\n"
      ]
     },
     "metadata": {},
     "output_type": "display_data"
    },
    {
     "name": "stderr",
     "output_type": "stream",
     "text": [
      "                                                                                                              \r"
     ]
    },
    {
     "data": {
      "text/html": [
       "<video src=\"media/jupyter/TransformEquation@2024-10-08@17-06-55.mp4\" controls autoplay loop style=\"max-width: 75%;\"  >\n",
       "      Your browser does not support the <code>video</code> element.\n",
       "    </video>"
      ],
      "text/plain": [
       "<IPython.core.display.Video object>"
      ]
     },
     "metadata": {},
     "output_type": "display_data"
    }
   ],
   "source": [
    "%%manim -qm TransformEquation\n",
    "\n",
    "class TransformEquation(Scene):\n",
    "    def construct(self):\n",
    "        eq1 = MathTex(\"42 {{ a^2 }} + {{ b^2 }} = {{ c^2 }}\")\n",
    "        eq2 = MathTex(\"42 {{ a^2 }} = {{ c^2 }} - {{ b^2 }}\")\n",
    "        eq3 = MathTex(r\"a^2 = \\frac{c^2 - b^2}{42}\")\n",
    "        self.play(Write(eq1), run_time=3)\n",
    "\n",
    "        self.wait()\n",
    "        self.play(TransformMatchingTex(eq1, eq2))\n",
    "        self.wait()\n",
    "        self.play(TransformMatchingShapes(eq2, eq3))\n",
    "        self.wait()"
   ]
  },
  {
   "cell_type": "code",
   "execution_count": 3,
   "metadata": {},
   "outputs": [
    {
     "data": {
      "text/html": [
       "<pre style=\"white-space:pre;overflow-x:auto;line-height:normal;font-family:Menlo,'DejaVu Sans Mono',consolas,'Courier New',monospace\">Manim Community <span style=\"color: #008000; text-decoration-color: #008000\">v0.18.1</span>\n",
       "\n",
       "</pre>\n"
      ],
      "text/plain": [
       "Manim Community \u001b[32mv0.\u001b[0m\u001b[32m18.1\u001b[0m\n",
       "\n"
      ]
     },
     "metadata": {},
     "output_type": "display_data"
    },
    {
     "name": "stderr",
     "output_type": "stream",
     "text": [
      "                                                                                                                                   \r"
     ]
    },
    {
     "data": {
      "text/html": [
       "<video src=\"media/jupyter/LaplacianDefinition@2024-10-08@17-06-58.mp4\" controls autoplay loop style=\"max-width: 75%;\"  >\n",
       "      Your browser does not support the <code>video</code> element.\n",
       "    </video>"
      ],
      "text/plain": [
       "<IPython.core.display.Video object>"
      ]
     },
     "metadata": {},
     "output_type": "display_data"
    }
   ],
   "source": [
    "%%manim -qh LaplacianDefinition\n",
    "\n",
    "class LaplacianDefinition(Scene):\n",
    "    def construct(self):\n",
    "        def1 = MathTex(r\"\\boldsymbol{L}:=\\boldsymbol{D}-\\boldsymbol{A}\")\n",
    "        self.play(Write(def1), run_time=3)\n",
    "        self.wait()\n",
    "        self.play(FadeOut(def1))"
   ]
  },
  {
   "cell_type": "code",
   "execution_count": 4,
   "metadata": {},
   "outputs": [
    {
     "data": {
      "text/html": [
       "<pre style=\"white-space:pre;overflow-x:auto;line-height:normal;font-family:Menlo,'DejaVu Sans Mono',consolas,'Courier New',monospace\">Manim Community <span style=\"color: #008000; text-decoration-color: #008000\">v0.18.1</span>\n",
       "\n",
       "</pre>\n"
      ],
      "text/plain": [
       "Manim Community \u001b[32mv0.\u001b[0m\u001b[32m18.1\u001b[0m\n",
       "\n"
      ]
     },
     "metadata": {},
     "output_type": "display_data"
    },
    {
     "name": "stderr",
     "output_type": "stream",
     "text": [
      "                                                                                                                \r"
     ]
    },
    {
     "data": {
      "text/html": [
       "<video src=\"media/jupyter/LaplacianExample@2024-10-08@17-07-11.mp4\" controls autoplay loop style=\"max-width: 75%;\"  >\n",
       "      Your browser does not support the <code>video</code> element.\n",
       "    </video>"
      ],
      "text/plain": [
       "<IPython.core.display.Video object>"
      ]
     },
     "metadata": {},
     "output_type": "display_data"
    }
   ],
   "source": [
    "%%manim -qh LaplacianExample\n",
    "\n",
    "\n",
    "# The Laplacian Matrix of a weighted graph $G=(V,E,w),w:E\\to\\mathbb{R}^+$, is designed to capture the\n",
    "\n",
    "# Laplacian quadratic form:\n",
    "\n",
    "# (3.1)\n",
    "\n",
    "# $$\\boldsymbol{x}^T\\boldsymbol{L}_G\\boldsymbol{x}=\\sum_{(a,b)\\in E}w_{a,b}(\\boldsymbol{x}(a)-\\boldsymbol{x}(b))^2.$$\n",
    "\n",
    "class LaplacianExample(Scene):\n",
    "    def construct(self):\n",
    "\n",
    "        vertices = [1, 2, 3, 4, 5]\n",
    "        edges = [(1, 2), (1, 3), (2, 3), (2, 4), (2, 5), (3, 4)]\n",
    "        g = Graph(vertices, edges, layout=\"circular\").scale(.5)\n",
    "        self.play(Write(g), run_time=2)\n",
    "        self.wait()\n",
    "\n",
    "\n",
    "        self.play(g.animate.shift(LEFT * 3), run_time=2)\n",
    "\n",
    "        adj_matrix = [\n",
    "            [0, 1, 1, 0, 0],\n",
    "            [1, 0, 1, 1, 1],\n",
    "            [1, 1, 0, 1, 0],\n",
    "            [0, 1, 1, 0, 0],\n",
    "            [0, 1, 0, 0, 0],\n",
    "        ]\n",
    "        deg_matrix = [\n",
    "            [2, 0, 0, 0, 0],\n",
    "            [0, 4, 0, 0, 0],\n",
    "            [0, 0, 3, 0, 0],\n",
    "            [0, 0, 0, 2, 0],\n",
    "            [0, 0, 0, 0, 1],\n",
    "        ]\n",
    "\n",
    "        adj_label = MathTex(r\"\\boldsymbol{A}\").scale(.5)\n",
    "        deg_label = MathTex(r\"\\boldsymbol{D}\").scale(.5)\n",
    "        lap_label = MathTex(r\"\\boldsymbol{L}\").scale(.5)\n",
    "\n",
    "        laplacian = [[adj_matrix[i][j] - deg_matrix[i][j] for j in range(5)] for i in range(5)]\n",
    "        adj = Matrix(adj_matrix, v_buff=.6, h_buff=.6).scale(.5)\n",
    "        minus = MathTex(\"-\").scale(.5).next_to(adj, RIGHT)\n",
    "        deg = Matrix(deg_matrix, v_buff=.6, h_buff=.6).scale(.5).next_to(minus, RIGHT)\n",
    "        lap = Matrix(laplacian, v_buff=.6, h_buff=.6).scale(.5)\n",
    "\n",
    "        adj_label.next_to(adj, UP)\n",
    "        deg_label.next_to(deg, UP)\n",
    "        lap_label.next_to(lap, UP)\n",
    "        \n",
    "        self.play(Write(adj), Write(adj_label), run_time=1)\n",
    "        self.play(Write(minus), run_time=.1)\n",
    "        self.play(Write(deg), Write(deg_label), run_time=1)\n",
    "        self.play(FadeOut(minus), run_time=.5)\n",
    "        self.play(\n",
    "            FadeOut(deg, shift=LEFT * 2), \n",
    "            FadeOut(deg_label, shift=LEFT * 2), \n",
    "            TransformMatchingShapes(deg, lap), \n",
    "            TransformMatchingShapes(adj, lap), \n",
    "            ReplacementTransform(adj_label, lap_label), \n",
    "            run_time=1)\n",
    "        self.wait()"
   ]
  },
  {
   "cell_type": "code",
   "execution_count": 8,
   "metadata": {},
   "outputs": [
    {
     "data": {
      "text/html": [
       "<pre style=\"white-space:pre;overflow-x:auto;line-height:normal;font-family:Menlo,'DejaVu Sans Mono',consolas,'Courier New',monospace\">Manim Community <span style=\"color: #008000; text-decoration-color: #008000\">v0.18.1</span>\n",
       "\n",
       "</pre>\n"
      ],
      "text/plain": [
       "Manim Community \u001b[32mv0.\u001b[0m\u001b[32m18.1\u001b[0m\n",
       "\n"
      ]
     },
     "metadata": {},
     "output_type": "display_data"
    },
    {
     "name": "stderr",
     "output_type": "stream",
     "text": [
      "                                                                                                                                                                                                                                                                                                              \r"
     ]
    },
    {
     "data": {
      "text/html": [
       "<video src=\"media/jupyter/LaplacianLemma@2024-10-08@17-17-33.mp4\" controls autoplay loop style=\"max-width: 75%;\"  >\n",
       "      Your browser does not support the <code>video</code> element.\n",
       "    </video>"
      ],
      "text/plain": [
       "<IPython.core.display.Video object>"
      ]
     },
     "metadata": {},
     "output_type": "display_data"
    }
   ],
   "source": [
    "%%manim -qh LaplacianLemma\n",
    "# \\textbf{Lemma 3.1.1 } Let $G=(V,E)$ be a graph, and let $0=\\lambda_1\\leq\\lambda_2\\leq\\cdots\\leq\\lambda_n$ be the eigenvalues of its Laplacian matrix, $L$. Then, $\\lambda_{2}>0$ if and only if $G$ is connected.\n",
    "\n",
    "class LaplacianLemma(Scene):\n",
    "    def construct(self):\n",
    "        lemma = Tex(\n",
    "            r\"{\\textbf{Lemma 3.1.1} Let $G=(V,E)$ be a graph, and let $0\\leq\\lambda_1\\leq\\lambda_2\\leq\\cdots\\leq\\lambda_n$ be the eigenvalues of its Laplacian matrix, $L$. Then, {{ $\\lambda_{2}>0$ }} if and only if {{$G$ is connected}}.\",\n",
    "        ).scale(.7)\n",
    "        self.play(Write(lemma), run_time=3)\n",
    "        self.wait(2)\n",
    "        short_lemma = Tex(r\"WTS: {{ $\\lambda_{2}>0$ }} $\\Leftrightarrow$ {{$G$ is connected}}\").scale(.7)\n",
    "\n",
    "        self.play(TransformMatchingTex(lemma, short_lemma), run_time=1)\n",
    "\n",
    "        self.wait(2)"
   ]
  },
  {
   "cell_type": "code",
   "execution_count": 6,
   "metadata": {},
   "outputs": [
    {
     "data": {
      "text/html": [
       "<pre style=\"white-space:pre;overflow-x:auto;line-height:normal;font-family:Menlo,'DejaVu Sans Mono',consolas,'Courier New',monospace\">Manim Community <span style=\"color: #008000; text-decoration-color: #008000\">v0.18.1</span>\n",
       "\n",
       "</pre>\n"
      ],
      "text/plain": [
       "Manim Community \u001b[32mv0.\u001b[0m\u001b[32m18.1\u001b[0m\n",
       "\n"
      ]
     },
     "metadata": {},
     "output_type": "display_data"
    },
    {
     "name": "stderr",
     "output_type": "stream",
     "text": [
      "                                                                                                                                                                            \r"
     ]
    },
    {
     "data": {
      "text/html": [
       "<video src=\"media/jupyter/LaplacianLemmaForward@2024-10-08@17-08-01.mp4\" controls autoplay loop style=\"max-width: 75%;\"  >\n",
       "      Your browser does not support the <code>video</code> element.\n",
       "    </video>"
      ],
      "text/plain": [
       "<IPython.core.display.Video object>"
      ]
     },
     "metadata": {},
     "output_type": "display_data"
    }
   ],
   "source": [
    "%%manim -qh LaplacianLemmaForward\n",
    "# Consider when G is not connected\n",
    "\n",
    "class LaplacianLemmaForward(Scene):\n",
    "    def construct(self):\n",
    "        consider = Tex(r\"Consider when $G$ is not connected\").scale(.7)\n",
    "\n",
    "        self.play(Write(consider), run_time=2)\n",
    "\n",
    "        self.wait()\n",
    "\n",
    "        self.play(FadeOut(consider), run_time=1)\n",
    "\n",
    "        # Create two disconnected graphs\n",
    "\n",
    "        G = MathTex(r\"G\").shift(UP * 2)\n",
    "        self.play(Write(G), run_time=1)\n",
    "\n",
    "\n",
    "        vertices1 = [1, 2, 3, 4]\n",
    "        edges1 = [(1, 2), (2, 3), (3, 4)]\n",
    "        g1 = Graph(vertices1, edges1, layout=\"circular\").scale(.5).shift(LEFT * 1.5)\n",
    "\n",
    "        vertices2 = [5, 6, 7]\n",
    "        edges2 = [(5, 6), (6, 7)]\n",
    "        g2 = Graph(vertices2, edges2, layout=\"circular\").scale(.5).shift(RIGHT * 1.5)\n",
    "\n",
    "        self.play(Write(g1), Write(g2), run_time=2)\n",
    "\n",
    "        # Split G into G1 and G2\n",
    "\n",
    "        G1 = MathTex(r\"G_1\").next_to(g1, UP)\n",
    "        G2 = MathTex(r\"G_2\").next_to(g2, UP)\n",
    "        self.play(ReplacementTransform(G, G1), ReplacementTransform(G.copy(), G2), run_time=2)\n",
    "\n",
    "        # Create the Laplacian matrices\n",
    "        AD_1 = MathTex(r\"A_1 - D_1\").scale(.5).next_to(g1, DOWN)\n",
    "        AD_2 = MathTex(r\"A_2 - D_2\").scale(.5).next_to(g2, DOWN)\n",
    "        L_1 = MathTex(r\"L_1\").scale(.5).next_to(g1, DOWN)\n",
    "        L_2 = MathTex(r\"L_2\").scale(.5).next_to(g2, DOWN)\n",
    "\n",
    "        self.play(Create(AD_1), Create(AD_2), run_time=2)\n",
    "        \n",
    "        self.play(ReplacementTransform(AD_1, L_1), ReplacementTransform(AD_2, L_2), run_time=2)\n",
    "\n",
    "        self.wait()\n",
    "\n",
    "        G = MathTex(r\"G\").shift(UP * 3)\n",
    "\n",
    "\n",
    "        # Create the Laplacian matrix of the combined graph\n",
    "        L = MobjectMatrix([\n",
    "            [MathTex(\"L_1\"), MathTex(r\"\\mathbf{0}\")],\n",
    "            [MathTex(r\"\\mathbf{0}\"), MathTex(r\"L_2\")]\n",
    "        ]).shift(DOWN * 1.5)\n",
    "\n",
    "        self.play(\n",
    "        ReplacementTransform(G1, G), \n",
    "        ReplacementTransform(G2, G), \n",
    "        g1.animate.shift(UP), \n",
    "        g2.animate.shift(UP), \n",
    "        ReplacementTransform(L_1, L), \n",
    "        ReplacementTransform(L_2, L), \n",
    "        run_time=1.5)\n",
    "\n",
    "        self.wait()\n",
    "\n",
    "        # Clear the screen\n",
    "\n",
    "        self.play(\n",
    "            FadeOut(g1), \n",
    "            FadeOut(g2), \n",
    "            FadeOut(G), \n",
    "            L.animate.shift(UP * 1.5 + LEFT * 2),\n",
    "            run_time=1.5\n",
    "        )\n",
    "\n",
    "        # Notice that the eigenvalues of these vectors are 0\n",
    "\n",
    "        Notice = Tex(r\"Notice that $L$ has at least two orthogonal eigenvectors of eigenvalue zero:\").shift(UP * 3).scale(.7)\n",
    "        eigenvectors = VGroup(\n",
    "            MathTex(r\"\\begin{bmatrix} 1 \\\\ 0 \\end{bmatrix}\"),\n",
    "            MathTex(r\"\\begin{bmatrix} 0 \\\\ 1 \\end{bmatrix}\"),\n",
    "        ).arrange(RIGHT).shift(RIGHT * 1.5)\n",
    "\n",
    "        self.play(Write(Notice), run_time=2)\n",
    "        self.play(Create(eigenvectors), run_time=2)\n",
    "\n",
    "        self.wait()\n",
    "\n",
    "        # fade out the notice and shift everything else up and \n",
    "\n",
    "        self.play(\n",
    "            FadeOut(Notice), \n",
    "            eigenvectors.animate.shift(UP * 2),\n",
    "            L.animate.shift(UP * 2),\n",
    "            run_time=1.5\n",
    "        )\n",
    "\n",
    "        # # Block Multiplication\n",
    "        # block_multiplication = MathTex(r\"\"\"\n",
    "        #     \\left[\n",
    "        #     \\begin{array}{ c | c }\n",
    "        #         A & B \\\\\n",
    "        #         \\hline\n",
    "        #         C & D\n",
    "        #     \\end{array} \n",
    "        #     \\right]\n",
    "        #     \\left[\n",
    "        #     \\begin{array}{ c }\n",
    "        #         E \\\\\n",
    "        #         \\hline\n",
    "        #         F \n",
    "        #     \\end{array} \n",
    "        #     \\right]\n",
    "        #     =\n",
    "        #     \\left[\n",
    "        #     \\begin{array}{ c }\n",
    "        #         A E + B F \\\\\n",
    "        #         \\hline\n",
    "        #         C E + D F\n",
    "        #     \\end{array} \n",
    "        #     \\right]\n",
    "        #     \"\"\"\n",
    "        # ).shift(DOWN)\n",
    "\n",
    "        # self.play(FadeIn(block_multiplication), run_time=1)\n",
    "        # self.wait(2)\n",
    "        # self.play(FadeOut(block_multiplication), run_time=1)\n",
    "\n",
    "        # Show that we've solved one direction\n",
    "\n",
    "        short_lemma = MathTex(r\"\\text{WTS: }\\lambda_{2}>0 \\Leftrightarrow G \\text{ is connected}\").scale(.7)\n",
    "        forward = MathTex(r\"{{ \\text{WTS: } }} {{ \\lambda_{2} }} > {{ 0 }} {{ \\Rightarrow }} {{ G }} {{ \\text{ is connected} }}\").scale(.7).next_to(short_lemma, DOWN)\n",
    "        forward2 = MathTex(r\"{{ \\text{WTS: } }} {{ G }} {{ \\text{ is not connected} }} {{ \\Rightarrow }} {{ \\lambda_{2} }} \\leq {{ 0 }}\").scale(.7).next_to(short_lemma, DOWN)\n",
    "\n",
    "        self.play(Write(short_lemma), run_time=1)\n",
    "        self.wait(2)\n",
    "        self.play(FadeIn(forward, target_position=short_lemma), run_time=1)\n",
    "        self.wait(2)\n",
    "        self.play(TransformMatchingTex(forward, forward2), run_time=1)\n",
    "        self.wait(1)\n",
    "        # place a tick next to the forward direction\n",
    "        self.play(Write(MathTex(r\"\\checkmark\", color=GREEN).scale(0.7).next_to(forward2, RIGHT).shift(UP * .05 + LEFT * 0.05)), run_time=1)\n",
    "        self.wait(2)"
   ]
  },
  {
   "cell_type": "code",
   "execution_count": 7,
   "metadata": {},
   "outputs": [
    {
     "data": {
      "text/html": [
       "<pre style=\"white-space:pre;overflow-x:auto;line-height:normal;font-family:Menlo,'DejaVu Sans Mono',consolas,'Courier New',monospace\">Manim Community <span style=\"color: #008000; text-decoration-color: #008000\">v0.18.1</span>\n",
       "\n",
       "</pre>\n"
      ],
      "text/plain": [
       "Manim Community \u001b[32mv0.\u001b[0m\u001b[32m18.1\u001b[0m\n",
       "\n"
      ]
     },
     "metadata": {},
     "output_type": "display_data"
    },
    {
     "name": "stderr",
     "output_type": "stream",
     "text": [
      "                                                                                                                                                                                                                                                                                             \r"
     ]
    },
    {
     "data": {
      "text/html": [
       "<video src=\"media/jupyter/LaplacianLemmaBackward@2024-10-08@17-08-33.mp4\" controls autoplay loop style=\"max-width: 75%;\"  >\n",
       "      Your browser does not support the <code>video</code> element.\n",
       "    </video>"
      ],
      "text/plain": [
       "<IPython.core.display.Video object>"
      ]
     },
     "metadata": {},
     "output_type": "display_data"
    }
   ],
   "source": [
    "%%manim -qh LaplacianLemmaBackward\n",
    "# Consider when G is not connected\n",
    "\n",
    "class LaplacianLemmaBackward(Scene):\n",
    "    def construct(self):\n",
    "        # On the other hand, assume that $G$ is connected and that $\\psi$ is an eigenvector of $\\boldsymbol{L}$ of eigenvalue 0.\n",
    "\n",
    "        # As\n",
    "\n",
    "        # $$\\boldsymbol{L}\\boldsymbol{\\psi}=\\mathbf{0},$$\n",
    "\n",
    "        # we have\n",
    "\n",
    "        # $$x^T\\boldsymbol{L}x=\\sum_{(a,b)\\in E}(\\boldsymbol{\\psi}(a)-\\boldsymbol{\\psi}(b))^2=0.$$\n",
    "\n",
    "        # Thus, for every pair of vertices $(a,b)$ connected by an edge, we have $\\boldsymbol{\\psi}(a)=\\boldsymbol{\\psi}(b).$ As every pair of vertices $a$ and $b$ are connected by a path, we may inductively apply this fact to show that $\\boldsymbol{\\psi}(a)=\\boldsymbol{\\psi}(b)$ for all vertices $a$ and $b.$ Thus, $\\boldsymbol{\\psi}$ must be a constant vector. We conclude that the eigenspace of eigenvalue 0 has dimension 1.\n",
    "\n",
    "\n",
    "        short_lemma = MathTex(r\"\\text{WTS: }\\lambda_{2}>0 \\Leftrightarrow G \\text{ is connected}\").scale(.7)\n",
    "        forward = MathTex(r\"{{ \\text{WTS: } }} {{ \\lambda_{2} > 0 }} \\Leftarrow {{ G }} {{ \\text{ is connected} }}\").scale(.7).next_to(short_lemma, DOWN)\n",
    "        forward2 = MathTex(r\"{{ \\text{WTS: } }} {{ G }} {{ \\text{ is connected} }} \\Rightarrow {{ \\lambda_{2} > 0 }}\").scale(.7).next_to(short_lemma, DOWN)\n",
    "\n",
    "        self.play(Write(short_lemma), run_time=1)\n",
    "        self.wait(2)\n",
    "        self.play(FadeIn(forward, target_position=short_lemma), run_time=1)\n",
    "        self.wait(1)\n",
    "        self.play(TransformMatchingTex(forward, forward2), run_time=1)\n",
    "        self.wait(2)\n",
    "        self.play(FadeOut(short_lemma), FadeOut(forward2), run_time=1)\n",
    "\n",
    "        contradiction = Tex(r\"Let $\\psi$ be a eigenvector of $\\boldsymbol{L}$ of eigenvalue 0.\").scale(.7).shift(UP * 3)\n",
    "\n",
    "        eq1 = MathTex(r\"{{\\boldsymbol{L}}}{{\\boldsymbol{\\psi}}}={{\\mathbf{0}}}\").scale(.7)\n",
    "        eq2 = MathTex(r\"x^T{{\\boldsymbol{L}}}x=\\sum_{(a,b)\\in E}({{\\boldsymbol{\\psi}}}(a)-{{\\boldsymbol{\\psi}}}(b))^2{{=0}}\").scale(.7)\n",
    "\n",
    "        self.play(Write(contradiction), run_time=1)\n",
    "        self.play(Write(eq1, run_time=1))\n",
    "        self.wait(2)\n",
    "        self.play(TransformMatchingTex(eq1, eq2), run_time=1)\n",
    "        self.wait(2)\n",
    "        \n",
    "        self.play(FadeOut(contradiction), eq2.animate.shift(UP * 2), run_time=1)\n",
    "\n",
    "        reason1 = Tex(\n",
    "            r\"Thus, for every pair of vertices $(a,b)$ connected by an edge, we have $\\boldsymbol{\\psi}(a)=\\boldsymbol{\\psi}(b)$. This means that the values of $\\boldsymbol{\\psi}$ are the same for connected vertices.\").scale(.7).next_to(eq2, DOWN, buff=.5)\n",
    "        self.play(Write(reason1), run_time=1)\n",
    "        self.wait(2)\n",
    "        reason2 = Tex(\n",
    "            r\"Since every pair of vertices $a$ and $b$ are connected by a path, we can apply this fact repeatedly to show that $\\boldsymbol{\\psi}(a)=\\boldsymbol{\\psi}(b)$ for all vertices $a$ and $b$.\").scale(.7).next_to(reason1, DOWN)\n",
    "        self.play(Write(reason2), run_time=1)\n",
    "        self.wait(2)\n",
    "        reason3 = Tex(\n",
    "            r\"Therefore, $\\boldsymbol{\\psi}$ must be a constant vector. We conclude that the eigenspace of eigenvalue 0 has dimension 1. In other words, there's only one eigenvector of eigenvalue 0.\").scale(.7).next_to(reason2, DOWN)\n",
    "        self.play(Write(reason3), run_time=1)\n",
    "        self.wait(2)\n",
    "\n",
    "        # Clear the screen\n",
    "        self.play(FadeOut(eq2), FadeOut(reason1), FadeOut(reason2), FadeOut(reason3), run_time=1)\n",
    "\n",
    "        # Show that we've solved the backward direction\n",
    "        green_checkmark = MathTex(r\"\\checkmark\", color=GREEN).scale(0.7).next_to(forward2, RIGHT).shift(UP * .05 + LEFT * 0.05)\n",
    "        green_checkmark2 = MathTex(r\"\\checkmark\", color=GREEN).scale(0.7).next_to(short_lemma, RIGHT).shift(UP * .05 + LEFT * 0.05)\n",
    "        self.play(Write(forward2), run_time=1)\n",
    "        self.play(Write(short_lemma), run_time=1)\n",
    "        self.play(Write(green_checkmark), run_time=1)\n",
    "        self.wait(2)\n",
    "        self.play(FadeOut(forward2, target_position=short_lemma), FadeOut(green_checkmark, target_position=green_checkmark2), run_time=1)\n",
    "\n",
    "        self.play(Write(green_checkmark2), run_time=1)"
   ]
  },
  {
   "cell_type": "code",
   "execution_count": null,
   "metadata": {},
   "outputs": [],
   "source": []
  }
 ],
 "metadata": {
  "kernelspec": {
   "display_name": "base",
   "language": "python",
   "name": "python3"
  },
  "language_info": {
   "codemirror_mode": {
    "name": "ipython",
    "version": 3
   },
   "file_extension": ".py",
   "mimetype": "text/x-python",
   "name": "python",
   "nbconvert_exporter": "python",
   "pygments_lexer": "ipython3",
   "version": "3.11.5"
  }
 },
 "nbformat": 4,
 "nbformat_minor": 2
}
