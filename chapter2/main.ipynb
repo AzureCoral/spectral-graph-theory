{
 "cells": [
  {
   "cell_type": "code",
   "execution_count": 1,
   "metadata": {},
   "outputs": [],
   "source": [
    "from manim import *\n",
    "\n",
    "TITLE_SIZE = 40\n",
    "SUBTITLE_SIZE = 24\n",
    "\n",
    "config.verbosity = \"WARNING\""
   ]
  },
  {
   "cell_type": "code",
   "execution_count": 2,
   "metadata": {},
   "outputs": [
    {
     "data": {
      "text/html": [
       "<pre style=\"white-space:pre;overflow-x:auto;line-height:normal;font-family:Menlo,'DejaVu Sans Mono',consolas,'Courier New',monospace\">Manim Community <span style=\"color: #008000; text-decoration-color: #008000\">v0.18.1</span>\n",
       "\n",
       "</pre>\n"
      ],
      "text/plain": [
       "Manim Community \u001b[32mv0.\u001b[0m\u001b[32m18.1\u001b[0m\n",
       "\n"
      ]
     },
     "metadata": {},
     "output_type": "display_data"
    },
    {
     "name": "stderr",
     "output_type": "stream",
     "text": [
      "                                                                                                                                                                                \r"
     ]
    },
    {
     "data": {
      "text/html": [
       "<video src=\"media/jupyter/RayleighQuotient@2024-10-09@13-58-56.mp4\" controls autoplay loop style=\"max-width: 60%;\"  >\n",
       "      Your browser does not support the <code>video</code> element.\n",
       "    </video>"
      ],
      "text/plain": [
       "<IPython.core.display.Video object>"
      ]
     },
     "metadata": {},
     "output_type": "display_data"
    }
   ],
   "source": [
    "\n",
    "%%manim -qm RayleighQuotient\n",
    "\n",
    "class RayleighQuotient(Scene):\n",
    "    def construct(self):\n",
    "        title = Text(\"Rayleigh Quotient\", font_size=TITLE_SIZE, color=BLUE).to_edge(UP + LEFT, buff=0.5)\n",
    "        \n",
    "        self.play(Write(title))\n",
    "        self.wait(4)\n",
    "\n",
    "        text = MathTex(r\"R(M, x) = \\frac{x^T M x}{x^T x}\", font_size=72)\n",
    "        text.scale(0.7)\n",
    "        self.play(Create(text))\n",
    "\n",
    "        self.wait(8)\n",
    "\n",
    "        text2 = MathTex(r\"R(M, \\alpha x) =\", r\"\\frac{(\\alpha x)^T M (\\alpha x)}{(\\alpha x)^T (\\alpha x)}\")\n",
    "        text3 = MathTex(r\"R(M, \\alpha x) =\", r\"\\frac{\\alpha^2 x^T M x}{\\alpha^2 x^T x}\")\n",
    "        text4 = MathTex(r\"R(M, \\alpha x) =\", r\"\\frac{x^T M x}{x^T x}\")\n",
    "\n",
    "        self.play(ReplacementTransform(text, text2))\n",
    "        self.wait(3)\n",
    "        self.play(ReplacementTransform(text2, text3))\n",
    "        self.wait(3)\n",
    "        self.play(ReplacementTransform(text3, text4))\n",
    "        self.wait(3)\n",
    "\n",
    "        self.play(FadeOut(title), FadeOut(text4))\n",
    "\n"
   ]
  },
  {
   "cell_type": "code",
   "execution_count": 8,
   "metadata": {},
   "outputs": [
    {
     "data": {
      "text/html": [
       "<pre style=\"white-space:pre;overflow-x:auto;line-height:normal;font-family:Menlo,'DejaVu Sans Mono',consolas,'Courier New',monospace\">Manim Community <span style=\"color: #008000; text-decoration-color: #008000\">v0.18.1</span>\n",
       "\n",
       "</pre>\n"
      ],
      "text/plain": [
       "Manim Community \u001b[32mv0.\u001b[0m\u001b[32m18.1\u001b[0m\n",
       "\n"
      ]
     },
     "metadata": {},
     "output_type": "display_data"
    },
    {
     "name": "stderr",
     "output_type": "stream",
     "text": [
      "                                                                                                                                                      \r"
     ]
    },
    {
     "data": {
      "text/html": [
       "<video src=\"media/jupyter/RayleighQuotientExample@2024-10-09@14-00-36.mp4\" controls autoplay loop style=\"max-width: 60%;\"  >\n",
       "      Your browser does not support the <code>video</code> element.\n",
       "    </video>"
      ],
      "text/plain": [
       "<IPython.core.display.Video object>"
      ]
     },
     "metadata": {},
     "output_type": "display_data"
    }
   ],
   "source": [
    "\n",
    "%%manim -qm RayleighQuotientExample\n",
    "\n",
    "class RayleighQuotientExample(Scene):\n",
    "    def construct(self):\n",
    "        title = Text(\"Example\", font_size=32).to_edge(UP + LEFT, buff=0.5)\n",
    "\n",
    "        self.play(Write(title))\n",
    "        self.wait(2)\n",
    "\n",
    "        A = MathTex(r\"M = \\begin{bmatrix} 5 & 2 \\\\ 2 & 5 \\end{bmatrix}\").move_to(0.3 * RIGHT)\n",
    "        x = MathTex(r\"x = \\begin{bmatrix} \\cos{t} \\\\ \\sin{t} \\end{bmatrix}\")\n",
    "\n",
    "        x.next_to(A, LEFT, buff=1.0)\n",
    "        self.play(Create(A), Create(x))\n",
    "\n",
    "        self.wait(2)\n",
    "\n",
    "        self.play(A.animate.shift(UP * 2.5), x.animate.shift(UP * 2.5))\n",
    "\n",
    "        self.wait(2)\n",
    "\n",
    "        eq1 = MathTex(r\"R(M, x) = \\frac{x^T M x}{x^T x}\")\n",
    "        eq2 = MathTex(r\"R(M, x) = \\frac{[1 \\; 1] \\begin{bmatrix} 5 & 2 \\\\ 2 & 5 \\end{bmatrix} \\begin{bmatrix} 1 \\\\ 1 \\end{bmatrix}}{[\\cos{t} \\; \\sin{t}] \\begin{bmatrix} \\cos{t} \\\\ \\sin{t} \\end{bmatrix}}\")\n",
    "        eq3 = MathTex(r\"R(M, x) = [1 \\; 1] \\begin{bmatrix} 5 & 2 \\\\ 2 & 5 \\end{bmatrix} \\begin{bmatrix} 1 \\\\ 1 \\end{bmatrix}\")\n",
    "        eq4 = MathTex(r\"R(M, x) = [1 \\; 1] \\begin{bmatrix} 7 \\\\ 7 \\end{bmatrix}\") \n",
    "        eq5 = MathTex(r\"R(M, x) = 7\")\n",
    "\n",
    "        self.play(Create(eq1))\n",
    "        self.wait(2)\n",
    "\n",
    "        self.play(Transform(eq1, eq2))\n",
    "        self.wait(2)\n",
    "\n",
    "        self.play(Transform(eq1, eq3))\n",
    "        self.wait(2)\n",
    "        \n",
    "        self.play(Transform(eq1, eq4))\n",
    "        self.wait(2)\n",
    "\n",
    "        self.play(Transform(eq1, eq5))\n",
    "        self.wait(2)\n",
    "\n",
    "        self.play(FadeOut(title), FadeOut(A), FadeOut(x), FadeOut(eq1))\n",
    "\n"
   ]
  },
  {
   "cell_type": "code",
   "execution_count": 4,
   "metadata": {},
   "outputs": [
    {
     "data": {
      "text/html": [
       "<pre style=\"white-space:pre;overflow-x:auto;line-height:normal;font-family:Menlo,'DejaVu Sans Mono',consolas,'Courier New',monospace\">Manim Community <span style=\"color: #008000; text-decoration-color: #008000\">v0.18.1</span>\n",
       "\n",
       "</pre>\n"
      ],
      "text/plain": [
       "Manim Community \u001b[32mv0.\u001b[0m\u001b[32m18.1\u001b[0m\n",
       "\n"
      ]
     },
     "metadata": {},
     "output_type": "display_data"
    },
    {
     "name": "stderr",
     "output_type": "stream",
     "text": [
      "                                                                                                                     \r"
     ]
    },
    {
     "data": {
      "text/html": [
       "<video src=\"media/jupyter/EigenvaluesRayleigh@2024-10-09@13-59-19.mp4\" controls autoplay loop style=\"max-width: 60%;\"  >\n",
       "      Your browser does not support the <code>video</code> element.\n",
       "    </video>"
      ],
      "text/plain": [
       "<IPython.core.display.Video object>"
      ]
     },
     "metadata": {},
     "output_type": "display_data"
    }
   ],
   "source": [
    "\n",
    "%%manim -qm EigenvaluesRayleigh\n",
    "\n",
    "class EigenvaluesRayleigh(Scene):\n",
    "    def construct(self):\n",
    "        title = Text(\"Rayleigh Quotient\", font_size=TITLE_SIZE, color=BLUE).to_edge(UP + LEFT, buff=0.5)\n",
    "        self.play(Create(title))\n",
    "        self.wait(2)\n",
    "\n",
    "        eq1 = MathTex(r\"R(M, x) = \\frac{x^T M x}{x^T x}\")\n",
    "        eq2 = MathTex(r\"R(M, x) = \\frac{x^T \\lambda x}{x^T x}\")\n",
    "        eq3 = MathTex(r\"R(M, x) = \\frac{\\lambda x^T x}{x^T x}\")\n",
    "        eq4 = MathTex(r\"R(M, x) = \\lambda\")\n",
    "\n",
    "        self.play(Create(eq1))\n",
    "        self.wait(3)\n",
    "\n",
    "        self.play(Transform(eq1, eq2))\n",
    "        self.wait(3)\n",
    "\n",
    "        self.play(Transform(eq1, eq3))\n",
    "        self.wait(3)\n",
    "\n",
    "        self.play(Transform(eq1, eq4))\n",
    "        self.wait(3)\n",
    "\n",
    "        self.play(FadeOut(title), FadeOut(eq1))\n"
   ]
  },
  {
   "cell_type": "code",
   "execution_count": 5,
   "metadata": {},
   "outputs": [
    {
     "data": {
      "text/html": [
       "<pre style=\"white-space:pre;overflow-x:auto;line-height:normal;font-family:Menlo,'DejaVu Sans Mono',consolas,'Courier New',monospace\">Manim Community <span style=\"color: #008000; text-decoration-color: #008000\">v0.18.1</span>\n",
       "\n",
       "</pre>\n"
      ],
      "text/plain": [
       "Manim Community \u001b[32mv0.\u001b[0m\u001b[32m18.1\u001b[0m\n",
       "\n"
      ]
     },
     "metadata": {},
     "output_type": "display_data"
    },
    {
     "name": "stderr",
     "output_type": "stream",
     "text": [
      "                                                                                                                                                                                                               \r"
     ]
    },
    {
     "data": {
      "text/html": [
       "<video src=\"media/jupyter/SpectralTheorem@2024-10-09@14-00-01.mp4\" controls autoplay loop style=\"max-width: 60%;\"  >\n",
       "      Your browser does not support the <code>video</code> element.\n",
       "    </video>"
      ],
      "text/plain": [
       "<IPython.core.display.Video object>"
      ]
     },
     "metadata": {},
     "output_type": "display_data"
    }
   ],
   "source": [
    "\n",
    "%%manim -qm SpectralTheorem\n",
    "\n",
    "class SpectralTheorem(Scene):\n",
    "    def construct(self):\n",
    "        title = Text(\"Spectral Theorem\", font_size=TITLE_SIZE).to_edge(UP + LEFT, buff=0.5)\n",
    "        self.play(Write(title))\n",
    "        self.wait(2)\n",
    "\n",
    "        theorem = MathTex(\n",
    "            r\"{\\text{For an } n\\text{-dimensional real symmetric matrix } M, \\text{ there exist eigenvalues } \\mu_1, \\ldots, \\mu_n}\",\n",
    "            font_size=36\n",
    "        )\n",
    "        theorem2 = MathTex(\n",
    "r\"\\text{ and orthonormal vectors } \\psi_1, \\ldots, \\psi_n \\text{ such that } M \\psi_i = \\mu_i \\psi_i}\", font_size=36\n",
    "                )\n",
    "        theorem.next_to(title, DOWN, buff=0.5)\n",
    "        theorem.align_to(title, LEFT)\n",
    "        theorem2.next_to(theorem, DOWN, buff=0.5)\n",
    "        theorem2.align_to(theorem, LEFT)\n",
    "\n",
    "        text1 = MathTex(r\"\\boldsymbol{\\psi}_{1} \\in \\arg\\max_{\\|\\boldsymbol{x}\\|=1} \\boldsymbol{x}^{T} \\boldsymbol{M} \\boldsymbol{x}, \")\n",
    "        text2 = MathTex(r\"\\boldsymbol{\\psi}_{i} \\in \\arg\\max_{\\boldsymbol{x}^{T} \\boldsymbol{\\psi}_{j} = 0 \\text{ for } j<i} \\boldsymbol{x}^{T} \\boldsymbol{M} \\boldsymbol{x}\")\n",
    "        text2.next_to(text1, DOWN, buff=0.5)\n",
    "        text2.align_to(text1, LEFT)\n",
    "\n",
    "        self.play(Create(theorem), run_time=5)\n",
    "        self.play(Create(theorem2), run_time=3)\n",
    "        self.wait(7)\n",
    "        self.play(Create(text1), Create(text2))\n",
    "        self.wait(10)\n",
    "\n",
    "        self.play(FadeOut(title), FadeOut(theorem), FadeOut(theorem2), FadeOut(text1), FadeOut(text2))\n",
    "\n",
    "\n",
    "        text3 = MathTex(r\"\\text{Proof by Induction: }\")\n",
    "        text4 = MathTex(r\"\\text{Base Case: The theorem holds for } M \\psi_1 = \\mu_1 \\psi_1\", font_size=42)\n",
    "        text5 = MathTex(r\"\\text{Induction: Construct } \\psi_{k + 1} \\text{ given } \\psi_1, \\ldots, \\psi_k \\text{ and } \\mu_1, \\ldots, \\mu_k\", font_size=42)\n",
    "\n",
    "\n",
    "        text3.to_edge(UP + LEFT, buff = 0.5)\n",
    "        text4.next_to(text3, DOWN, buff=0.5)\n",
    "        text4.to_edge(LEFT, buff = 1.5)\n",
    "        text5.next_to(text4, DOWN, buff=0.5)\n",
    "        text5.to_edge(LEFT, buff = 1.5)\n",
    "\n",
    "        self.play(Write(text3))\n",
    "        self.wait(2)\n",
    "        self.play(Write(text4), run_time=2)\n",
    "        self.play(Write(text5), run_time=2)\n",
    "        self.wait(5)\n",
    "\n",
    "        self.play(FadeOut(text3), FadeOut(text5))\n",
    "\n",
    "        self.play(text4.animate.to_edge(UP + LEFT, buff=0.5))\n",
    "        self.wait(7)\n",
    "\n",
    "        eq1 = MathTex(r\"\\nabla x \\frac{x^T M x}{x^T x} = 0\")\n",
    "        eq2 = MathTex(r\"\\nabla x \\frac{x^T M x}{x^T x} = \\frac{(x^T x)(2M x) - (x^T M x)(2x)}{(x^T x)^2}\")\n",
    "        eq3 = MathTex(r\"(x^T x)(2M x) - (x^T M x)(2x) = 0\")\n",
    "        eq4 = MathTex(r\"(x^T x)(2M x) = (x^T M x)(2x)\")\n",
    "        eq5 = MathTex(r\"(x^T x)M x = (x^T M x)x\")\n",
    "        eq6 = MathTex(r\"M x = \\frac{x^T M x}{x^T x}x\")\n",
    "        eq7 = MathTex(r\"M x = \\mu_1 x\")\n",
    "\n",
    "        eq1.move_to(UP * 2)\n",
    "        eq2.next_to(eq1, DOWN, buff=0.5)\n",
    "        eq3.next_to(eq2, DOWN, buff=0.5)\n",
    "        eq4.move_to(eq3.get_center())\n",
    "        eq5.next_to(eq3, DOWN, buff=0.8)\n",
    "        eq6.move_to(eq5.get_center())\n",
    "        eq7.move_to(eq6.get_center())\n",
    "\n",
    "        self.play(Write(eq1))\n",
    "        self.wait(2)\n",
    "\n",
    "        self.play(Write(eq2))\n",
    "        self.wait(2)\n",
    "\n",
    "        self.play(Write(eq3))\n",
    "        self.wait(2)\n",
    "\n",
    "        self.play(Transform(eq3, eq4))\n",
    "        self.wait(2)\n",
    "\n",
    "        self.play(Write(eq5))\n",
    "        self.wait(2)\n",
    "\n",
    "        self.play(Transform(eq5, eq6))\n",
    "        self.wait(2)\n",
    "\n",
    "        self.play(Transform(eq5, eq7))\n",
    "        self.wait(8)\n",
    "\n",
    "        self.play(FadeOut(eq1), FadeOut(eq2), FadeOut(eq3), FadeOut(eq5), FadeOut(eq6), FadeOut(text4))\n",
    "\n"
   ]
  },
  {
   "cell_type": "code",
   "execution_count": 6,
   "metadata": {},
   "outputs": [
    {
     "data": {
      "text/html": [
       "<pre style=\"white-space:pre;overflow-x:auto;line-height:normal;font-family:Menlo,'DejaVu Sans Mono',consolas,'Courier New',monospace\">Manim Community <span style=\"color: #008000; text-decoration-color: #008000\">v0.18.1</span>\n",
       "\n",
       "</pre>\n"
      ],
      "text/plain": [
       "Manim Community \u001b[32mv0.\u001b[0m\u001b[32m18.1\u001b[0m\n",
       "\n"
      ]
     },
     "metadata": {},
     "output_type": "display_data"
    },
    {
     "name": "stderr",
     "output_type": "stream",
     "text": [
      "                                                                                                                                                                                                                      \r"
     ]
    },
    {
     "data": {
      "text/html": [
       "<video src=\"media/jupyter/InductiveStep@2024-10-09@14-00-21.mp4\" controls autoplay loop style=\"max-width: 60%;\"  >\n",
       "      Your browser does not support the <code>video</code> element.\n",
       "    </video>"
      ],
      "text/plain": [
       "<IPython.core.display.Video object>"
      ]
     },
     "metadata": {},
     "output_type": "display_data"
    }
   ],
   "source": [
    "\n",
    "%%manim -qm InductiveStep\n",
    "\n",
    "class InductiveStep(Scene):\n",
    "    def construct(self):\n",
    "        text1 = MathTex(r\"\\text{Proof by Induction: }\")\n",
    "        text2 = MathTex(r\"\\text{Base Case: The theorem holds for } M \\psi_1 = \\mu_1 \\psi_1\", font_size=42)\n",
    "        text3 = MathTex(r\"\\text{Induction: Construct } \\psi_{k + 1} \\text{ given } \\psi_1, \\ldots, \\psi_k \\text{ and } \\mu_1, \\ldots, \\mu_k\", font_size=42)\n",
    "\n",
    "        text1.to_edge(UP + LEFT, buff = 0.5)\n",
    "        text2.next_to(text1, DOWN, buff=0.5)\n",
    "        text2.to_edge(LEFT, buff = 1.5)\n",
    "        text3.next_to(text2, DOWN, buff=0.5)\n",
    "        text3.to_edge(LEFT, buff = 1.5)\n",
    "\n",
    "        self.play(FadeIn(text1))\n",
    "        self.play(FadeIn(text2))\n",
    "        self.play(FadeIn(text3))\n",
    "\n",
    "        self.play(FadeOut(text1), FadeOut(text2))\n",
    "\n",
    "        self.play(text3.animate.to_edge(UP + LEFT, buff=0.5))\n",
    "        self.wait(7)\n",
    "\n",
    "        text4 = MathTex(r\"M_k = \", r\"M - \", r\"\\sum_{i=1}^{k} \\mu_i \\psi_i \\psi_i^T\")\n",
    "        text5 = MathTex(r\"M_k \\psi_j =\", r\"M \\psi_j - \", r\"\\sum_{i=1}^{k} \\mu_i \\psi_i \\psi_i^T\", r\"\\psi_j\")\n",
    "        text6 = MathTex(r\"M_k \\psi_j =\", r\"\\mu_j \\psi_j - mu_j \\psi_j\", r\"= 0\")\n",
    "\n",
    "        self.play(Write(text4))\n",
    "        self.wait(8)\n",
    "        self.play(ReplacementTransform(text4, text5))\n",
    "        self.wait(6)\n",
    "        self.play(text5.animate.shift(UP * 1.5))\n",
    "        box = SurroundingRectangle(text5[-1], buff=0.1)\n",
    "        self.wait(1)\n",
    "        self.play(Write(text6))\n",
    "        self.wait(4)\n",
    "        self.play(Create(box))\n",
    "        self.wait(5)\n",
    "\n",
    "        self.play(FadeOut(text3), FadeOut(text5), FadeOut(text6), FadeOut(box))\n"
   ]
  }
 ],
 "metadata": {
  "kernelspec": {
   "display_name": "base",
   "language": "python",
   "name": "python3"
  },
  "language_info": {
   "codemirror_mode": {
    "name": "ipython",
    "version": 3
   },
   "file_extension": ".py",
   "mimetype": "text/x-python",
   "name": "python",
   "nbconvert_exporter": "python",
   "pygments_lexer": "ipython3",
   "version": "3.11.5"
  }
 },
 "nbformat": 4,
 "nbformat_minor": 2
}
