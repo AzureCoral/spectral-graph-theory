{
 "cells": [
  {
   "cell_type": "code",
   "execution_count": 7,
   "metadata": {},
   "outputs": [],
   "source": [
    "from typing_extensions import runtime\n",
    "from manim import *\n",
    "from random import *\n",
    "import math\n",
    "import random\n",
    "\n",
    "config.media_width = \"75%\"\n",
    "config.verbosity = \"WARNING\"\n",
    "\n",
    "TITLE_SIZE = 40 \n",
    "\n",
    "\n",
    "\n",
    "def create_partition_graph(\n",
    "                graph_size = 10,\n",
    "                num_edges = 10,\n",
    "                partition_ratio = 3, \n",
    "                partition_color = GREEN, \n",
    "                partition_opacity = .25,\n",
    "                partition_values = (1,0),\n",
    "                vertices = None,\n",
    "                edges = None,\n",
    "                subset_vertices = None,\n",
    "                subset_edges = None,\n",
    "                S_angle = None,\n",
    "                label_pos = UP\n",
    "            ):\n",
    "\n",
    "    if not vertices:\n",
    "        vertices = list(range(1, graph_size+1))\n",
    "\n",
    "    if not S_angle:\n",
    "        S_angle = min(math.pi * (1 / partition_ratio), math.pi / 3)\n",
    "    if not edges:\n",
    "        edges = []\n",
    "        while len(edges) <= num_edges:\n",
    "            a, b = random.sample(vertices, 2)\n",
    "            if (a, b) not in edges and (b, a) not in edges:\n",
    "                edges.append((a, b))\n",
    "\n",
    "    if not subset_vertices:\n",
    "        subset_vertices = list(range(1, int(graph_size // partition_ratio) + 1))\n",
    "    vertex_config = {i : {\"fill_color\": partition_color} for i in subset_vertices}\n",
    "    vertex_label_dict = {i : partition_values[0] for i in range(1, int(graph_size // partition_ratio) + 1)} | {i : partition_values[1] for i in range(int(graph_size // partition_ratio) + 1, graph_size+1)}\n",
    "\n",
    "    if not subset_edges:\n",
    "        subset_edges = [edge for edge in edges if (edge[0] in subset_vertices and edge[1] not in subset_vertices) or (edge[1] in subset_vertices and edge[0] not in subset_vertices)]\n",
    "    edge_config = {edge : {\"stroke_color\": partition_color} for edge in subset_edges}\n",
    "    edge_label_dict = {edge : 1 for edge in subset_edges} | {edge : 0 for edge in edges if edge not in subset_edges}\n",
    "\n",
    "    g = Graph(vertices, edges, layout=\"circular\", vertex_config=vertex_config, edge_config=edge_config)\n",
    "\n",
    "    S_region = Ellipse(width=1.6, height=3, color=partition_color, fill_color=partition_color, fill_opacity=partition_opacity).shift(RIGHT * 1.2 + UP * .9).rotate(S_angle)\n",
    "    S_region.surround(Group(*[g.vertices[i] for i in subset_vertices]))\n",
    "\n",
    "    S_label = MathTex(r\"S\", color=GREEN).next_to(S_region, label_pos)\n",
    "\n",
    "    vertex_labels = []\n",
    "    # for v in g.vertices:\n",
    "    #     theta = 2 * math.pi * (v - 1) / graph_size\n",
    "    #     label = (MathTex(vertex_label_dict[v])\n",
    "    #             .scale(0.5)\n",
    "    #             .next_to(g.vertices[v], .5 * (round(math.cos(theta), 2) * RIGHT + round(math.sin(theta), 2) * UP))\n",
    "    #     )\n",
    "    #     vertex_labels.append(label)\n",
    "\n",
    "    edge_labels = []\n",
    "    for e in g.edges:\n",
    "        dot = Dot(fill_opacity=0.75, color=config.background_color, radius=.16).move_to(g.edges[e].get_center())\n",
    "        label = (MathTex(edge_label_dict[e])\n",
    "                .scale(0.5)\n",
    "                .next_to(g.edges[e], 0)\n",
    "        )\n",
    "        edge_labels.append(VGroup(dot, label))\n",
    "\n",
    "    return g, VGroup(*vertex_labels), VGroup(*edge_labels), S_region, S_label\n"
   ]
  },
  {
   "cell_type": "code",
   "execution_count": 3,
   "metadata": {},
   "outputs": [],
   "source": [
    "%%manim -qm Isoperimetry\n",
    "\n",
    "class Isoperimetry(Scene):\n",
    "    def construct(self):\n",
    "        g, vertex_labels, edge_labels, S_region, S_label = create_partition_graph(\n",
    "            num_edges=14, graph_size=10, partition_ratio=3)\n",
    "        self.play(Write(g), Write(S_region), Write(S_label), run_time=2)\n",
    "        self.wait(2)\n",
    "\n",
    "        vgroup = VGroup(g, S_region, S_label)\n",
    "\n",
    "        self.play(vgroup.animate.scale(0.8).to_edge(LEFT, buff=1.5))\n",
    "\n",
    "        subset_vertices = list(range(1, 10 // 3 + 1))  # Adjust according to your partition_ratio\n",
    "\n",
    "        boundary_edges_cardinality = sum(\n",
    "            1 for edge in g.edges if (edge[0] in subset_vertices) != (edge[1] in subset_vertices)\n",
    "        )\n",
    "\n",
    "        S_cardinality = len(subset_vertices)\n",
    "\n",
    "        text = MathTex(r\"\\theta(S) =\", r\"\\frac{|\\text{boundary edges}|}{|\\text{S}|}\", font_size=40)\n",
    "        text_next = MathTex(r\"\\theta(S) =\", r\"\\frac{|\\partial(S)|}{|\\text{S}|}\")\n",
    "        text2 = MathTex(r\" = \\frac{\" + str(boundary_edges_cardinality) + r\"}{\" + str(S_cardinality) + r\"} = \" + str(round(boundary_edges_cardinality / S_cardinality, 2)), font_size=40)\n",
    "\n",
    "        text.next_to(vgroup, RIGHT, buff=1.5)\n",
    "        text_next.move_to(text.get_center())\n",
    "        self.play(Write(text))\n",
    "        self.wait(3)\n",
    "        self.play(Transform(text, text_next))\n",
    "        self.wait(2)\n",
    "        self.play(text.animate.shift(LEFT * 1.5))\n",
    "        self.wait(1)\n",
    "        text2.next_to(text, RIGHT, buff=0.5)\n",
    "        self.play(Write(text2))\n",
    "        self.wait(3)\n",
    "\n",
    "        self.play(FadeOut(g), FadeOut(text), FadeOut(text2), FadeOut(vgroup))"
   ]
  },
  {
   "cell_type": "code",
   "execution_count": 26,
   "metadata": {},
   "outputs": [
    {
     "data": {
      "text/html": [
       "<pre style=\"white-space:pre;overflow-x:auto;line-height:normal;font-family:Menlo,'DejaVu Sans Mono',consolas,'Courier New',monospace\">Manim Community <span style=\"color: #008000; text-decoration-color: #008000\">v0.18.1</span>\n",
       "\n",
       "</pre>\n"
      ],
      "text/plain": [
       "Manim Community \u001b[32mv0.\u001b[0m\u001b[32m18.1\u001b[0m\n",
       "\n"
      ]
     },
     "metadata": {},
     "output_type": "display_data"
    },
    {
     "name": "stderr",
     "output_type": "stream",
     "text": [
      "                                                                                                                                                  \r"
     ]
    },
    {
     "data": {
      "text/html": [
       "<video src=\"media/jupyter/IsoperimetryExample@2024-10-16@17-58-02.mp4\" controls autoplay loop style=\"max-width: 75%;\"  >\n",
       "      Your browser does not support the <code>video</code> element.\n",
       "    </video>"
      ],
      "text/plain": [
       "<IPython.core.display.Video object>"
      ]
     },
     "metadata": {},
     "output_type": "display_data"
    }
   ],
   "source": [
    "%%manim -qh IsoperimetryExample\n",
    "\n",
    "class IsoperimetryExample(Scene):\n",
    "    def construct(self):\n",
    "        eq1 = MathTex(r\"\\theta_{G} = \\underset{|\\text{S}| \\leq \\frac{n}{2}}{\\min} \\theta(S)\")\n",
    "        self.play(Write(eq1), run_time=1)\n",
    "        self.wait(2)\n",
    "\n",
    "        self.play(FadeOut(eq1))\n",
    "\n",
    "        partition_ratios = [10, 5, 2.5, 2.5, 2]\n",
    "        subset_vertices = [[7], [1, 2], [2, 3, 4, 5], [1, 2, 3, 10], [1,2,3,4,5]]\n",
    "\n",
    "        vertices = list(range(1, 11))\n",
    "        edges = [\n",
    "                (1,7),\n",
    "                (1,8), \n",
    "                (2,10),\n",
    "                (2,9), \n",
    "                (2,5), \n",
    "                (2,6), \n",
    "                (3,4), \n",
    "                (3,6), \n",
    "                (3,10), \n",
    "                (5,8), \n",
    "                (5,9), \n",
    "                (5,10), \n",
    "                (6,10), \n",
    "                (8,10), \n",
    "                (9,10)\n",
    "            ]\n",
    "\n",
    "        all_groups = []\n",
    "\n",
    "        angles = [min(math.pi * (1 / p), math.pi / 3) for p in partition_ratios]\n",
    "        angles[2] = math.pi / 2\n",
    "\n",
    "\n",
    "        label_pos = [UP, UP, UP, RIGHT, UP]\n",
    "\n",
    "        for i in range(len(partition_ratios)):\n",
    "            p = partition_ratios[i]\n",
    "\n",
    "            g, _, _, S_region, S_label = create_partition_graph(\n",
    "                vertices=vertices, edges=edges, num_edges=14, graph_size=10, partition_ratio=p, subset_vertices=subset_vertices[i], S_angle=angles[i], label_pos=label_pos[i])\n",
    "\n",
    "            vgroup = VGroup(g, S_region, S_label)\n",
    "            vgroup2 = VGroup(g, S_region)\n",
    "\n",
    "            vgroup.to_edge(LEFT, buff=1.5).to_edge(DOWN, buff=2)\n",
    "            vgroup2.to_edge(LEFT, buff=1.5).to_edge(DOWN, buff=2)\n",
    "            self.play(Write(vgroup), run_time=1.5)\n",
    "\n",
    "            boundary_edges_cardinality = sum(\n",
    "                1 for edge in g.edges if (edge[0] in subset_vertices[i]) != (edge[1] in subset_vertices[i])\n",
    "            )\n",
    "\n",
    "            eq2 = MathTex(r\"\\theta(S) = \" + str(round(boundary_edges_cardinality / len(subset_vertices[i]), 2)), font_size=40)\n",
    "            eq2.shift(RIGHT * 3)\n",
    "\n",
    "            self.play(Write(eq2))\n",
    "            self.wait(2)\n",
    "\n",
    "            new_group2 = VGroup(vgroup, eq2)\n",
    "            self.play(new_group2.animate.shift(RIGHT * 18), run_time=2)\n",
    "\n",
    "            # eq2.next_to(vgroup2, RIGHT, buff=0.75).scale(1.5)\n",
    "            new_group = VGroup(vgroup2, eq2)\n",
    "            all_groups.append(new_group)\n",
    "\n",
    "\n",
    "        for i, group in enumerate(all_groups):\n",
    "            group.scale(0.5)\n",
    "            group[0].to_edge(DOWN, buff=2)\n",
    "            group[1].next_to(group[0], DOWN)\n",
    "            group[1].to_edge(DOWN, buff=1.5)\n",
    "\n",
    "        vmobjec = VGroup(*all_groups).arrange(RIGHT, buff=0.5)  # Arrange as needed\n",
    "\n",
    "        self.play(Write(vmobjec), run_time=5)\n",
    "\n",
    "        sorted_indices = [0, 2, 4, 3, 1]\n",
    "\n",
    "        self.wait(2)\n",
    "        sorted_vmobject = VGroup(*[vmobjec[i].copy() for i in sorted_indices]).arrange(RIGHT, buff=0.5)\n",
    "        self.play(*[graph.animate.next_to(sorted_vmobject[sorted_indices.index(i)], 0) for i, graph in enumerate(vmobjec)], run_time=2)\n",
    "        self.wait(2)\n",
    "        self.play(FadeOut(vmobjec), run_time=1)\n",
    "\n",
    "        eq3 = MathTex(r\"\\theta_{G} = 0.5\", font_size=40)\n",
    "        self.play(Write(eq3))\n",
    "        self.wait(2)\n",
    "\n",
    "        self.play(eq3.animate.move_to(RIGHT * 2))\n",
    "\n",
    "        subset_vertices = [1, 7]\n",
    "\n",
    "        g, _, _, _, _ = create_partition_graph(\n",
    "            vertices=vertices, edges=edges, num_edges=14, graph_size=10, partition_ratio=5, subset_vertices=subset_vertices)\n",
    "\n",
    "        S_region = Ellipse(width=1.6, height=3, color=GREEN, fill_color=GREEN, fill_opacity=0.25).shift(RIGHT * 1.2 + UP * .9).rotate(min(math.pi * (1 / 2), math.pi / 3))\n",
    "        S_region.surround(Group(*[g.vertices[i] for i in subset_vertices[:-1]]))\n",
    "\n",
    "        S_region2 = Ellipse(width=1.6, height=3, color=GREEN, fill_color=GREEN, fill_opacity=0.25).shift(RIGHT * 1.2 + UP * .9).rotate(min(math.pi * (1 / 2), math.pi / 3))\n",
    "        S_region2.surround(Group(*[g.vertices[i] for i in subset_vertices[-1:]]))\n",
    "\n",
    "        S_label = MathTex(r\"S\", color=GREEN).next_to(S_region, UP)\n",
    "\n",
    "        agroup = VGroup(g, S_region, S_region2, S_label).next_to(eq3, LEFT, buff=1.5)\n",
    "\n",
    "        self.play(Write(agroup))\n",
    "\n",
    "        self.wait(3)\n",
    "        self.play(FadeOut(agroup), FadeOut(eq3))"
   ]
  },
  {
   "cell_type": "code",
   "execution_count": 5,
   "metadata": {},
   "outputs": [
    {
     "data": {
      "text/html": [
       "<pre style=\"white-space:pre;overflow-x:auto;line-height:normal;font-family:Menlo,'DejaVu Sans Mono',consolas,'Courier New',monospace\">Manim Community <span style=\"color: #008000; text-decoration-color: #008000\">v0.18.1</span>\n",
       "\n",
       "</pre>\n"
      ],
      "text/plain": [
       "Manim Community \u001b[32mv0.\u001b[0m\u001b[32m18.1\u001b[0m\n",
       "\n"
      ]
     },
     "metadata": {},
     "output_type": "display_data"
    },
    {
     "data": {
      "text/html": [
       "<pre style=\"white-space:pre;overflow-x:auto;line-height:normal;font-family:Menlo,'DejaVu Sans Mono',consolas,'Courier New',monospace\"><span style=\"color: #7fbfbf; text-decoration-color: #7fbfbf\">                    </span><span style=\"color: #008000; text-decoration-color: #008000\">INFO    </span> <span style=\"color: #808000; text-decoration-color: #808000; font-weight: bold\">Writing</span> \\<span style=\"color: #800080; text-decoration-color: #800080; font-weight: bold\">phi</span><span style=\"font-weight: bold\">(</span>S<span style=\"font-weight: bold\">)</span> =  \\frac<span style=\"font-weight: bold\">{</span><span style=\"color: #800080; text-decoration-color: #800080; font-weight: bold\">d</span><span style=\"font-weight: bold\">(</span>V<span style=\"font-weight: bold\">)</span><span style=\"color: #800080; text-decoration-color: #800080; font-weight: bold\">w</span><span style=\"font-weight: bold\">(</span>\\<span style=\"color: #800080; text-decoration-color: #800080; font-weight: bold\">partial</span><span style=\"font-weight: bold\">(</span>S<span style=\"font-weight: bold\">))}{</span><span style=\"color: #800080; text-decoration-color: #800080; font-weight: bold\">d</span><span style=\"font-weight: bold\">(</span>S<span style=\"font-weight: bold\">)</span><span style=\"color: #800080; text-decoration-color: #800080; font-weight: bold\">d</span><span style=\"font-weight: bold\">(</span>V-S<span style=\"font-weight: bold\">)}</span> to    <a href=\"file:///Users/geo/anaconda3/lib/python3.11/site-packages/manim/utils/tex_file_writing.py\" target=\"_blank\"><span style=\"color: #7f7f7f; text-decoration-color: #7f7f7f\">tex_file_writing.py</span></a><span style=\"color: #7f7f7f; text-decoration-color: #7f7f7f\">:</span><a href=\"file:///Users/geo/anaconda3/lib/python3.11/site-packages/manim/utils/tex_file_writing.py#109\" target=\"_blank\"><span style=\"color: #7f7f7f; text-decoration-color: #7f7f7f\">109</span></a>\n",
       "<span style=\"color: #7fbfbf; text-decoration-color: #7fbfbf\">                    </span>         media/Tex/bccc4ea0058d7bbf.tex                                 <span style=\"color: #7f7f7f; text-decoration-color: #7f7f7f\">                       </span>\n",
       "</pre>\n"
      ],
      "text/plain": [
       "\u001b[2;36m                   \u001b[0m\u001b[2;36m \u001b[0m\u001b[32mINFO    \u001b[0m \u001b[1;33mWriting\u001b[0m \\\u001b[1;35mphi\u001b[0m\u001b[1m(\u001b[0mS\u001b[1m)\u001b[0m =  \\frac\u001b[1m{\u001b[0m\u001b[1;35md\u001b[0m\u001b[1m(\u001b[0mV\u001b[1m)\u001b[0m\u001b[1;35mw\u001b[0m\u001b[1m(\u001b[0m\\\u001b[1;35mpartial\u001b[0m\u001b[1m(\u001b[0mS\u001b[1m)\u001b[0m\u001b[1m)\u001b[0m\u001b[1m}\u001b[0m\u001b[1m{\u001b[0m\u001b[1;35md\u001b[0m\u001b[1m(\u001b[0mS\u001b[1m)\u001b[0m\u001b[1;35md\u001b[0m\u001b[1m(\u001b[0mV-S\u001b[1m)\u001b[0m\u001b[1m}\u001b[0m to    \u001b]8;id=874126;file:///Users/geo/anaconda3/lib/python3.11/site-packages/manim/utils/tex_file_writing.py\u001b\\\u001b[2mtex_file_writing.py\u001b[0m\u001b]8;;\u001b\\\u001b[2m:\u001b[0m\u001b]8;id=632582;file:///Users/geo/anaconda3/lib/python3.11/site-packages/manim/utils/tex_file_writing.py#109\u001b\\\u001b[2m109\u001b[0m\u001b]8;;\u001b\\\n",
       "\u001b[2;36m                    \u001b[0m         media/Tex/bccc4ea0058d7bbf.tex                                 \u001b[2m                       \u001b[0m\n"
      ]
     },
     "metadata": {},
     "output_type": "display_data"
    },
    {
     "data": {
      "text/html": [
       "<pre style=\"white-space:pre;overflow-x:auto;line-height:normal;font-family:Menlo,'DejaVu Sans Mono',consolas,'Courier New',monospace\"><span style=\"color: #7fbfbf; text-decoration-color: #7fbfbf\">[10/16/24 16:22:18] </span><span style=\"color: #008000; text-decoration-color: #008000\">INFO    </span> <span style=\"color: #808000; text-decoration-color: #808000; font-weight: bold\">Writing</span> \\<span style=\"color: #800080; text-decoration-color: #800080; font-weight: bold\">phi</span><span style=\"font-weight: bold\">(</span>S<span style=\"font-weight: bold\">)</span> = to media/Tex/8c7bc6750b67ea70.tex            <a href=\"file:///Users/geo/anaconda3/lib/python3.11/site-packages/manim/utils/tex_file_writing.py\" target=\"_blank\"><span style=\"color: #7f7f7f; text-decoration-color: #7f7f7f\">tex_file_writing.py</span></a><span style=\"color: #7f7f7f; text-decoration-color: #7f7f7f\">:</span><a href=\"file:///Users/geo/anaconda3/lib/python3.11/site-packages/manim/utils/tex_file_writing.py#109\" target=\"_blank\"><span style=\"color: #7f7f7f; text-decoration-color: #7f7f7f\">109</span></a>\n",
       "</pre>\n"
      ],
      "text/plain": [
       "\u001b[2;36m[10/16/24 16:22:18]\u001b[0m\u001b[2;36m \u001b[0m\u001b[32mINFO    \u001b[0m \u001b[1;33mWriting\u001b[0m \\\u001b[1;35mphi\u001b[0m\u001b[1m(\u001b[0mS\u001b[1m)\u001b[0m = to media/Tex/8c7bc6750b67ea70.tex            \u001b]8;id=809410;file:///Users/geo/anaconda3/lib/python3.11/site-packages/manim/utils/tex_file_writing.py\u001b\\\u001b[2mtex_file_writing.py\u001b[0m\u001b]8;;\u001b\\\u001b[2m:\u001b[0m\u001b]8;id=931659;file:///Users/geo/anaconda3/lib/python3.11/site-packages/manim/utils/tex_file_writing.py#109\u001b\\\u001b[2m109\u001b[0m\u001b]8;;\u001b\\\n"
      ]
     },
     "metadata": {},
     "output_type": "display_data"
    },
    {
     "data": {
      "text/html": [
       "<pre style=\"white-space:pre;overflow-x:auto;line-height:normal;font-family:Menlo,'DejaVu Sans Mono',consolas,'Courier New',monospace\"><span style=\"color: #7fbfbf; text-decoration-color: #7fbfbf\">                    </span><span style=\"color: #008000; text-decoration-color: #008000\">INFO    </span> <span style=\"color: #808000; text-decoration-color: #808000; font-weight: bold\">Writing</span> \\frac<span style=\"font-weight: bold\">{</span><span style=\"color: #800080; text-decoration-color: #800080; font-weight: bold\">d</span><span style=\"font-weight: bold\">(</span>V<span style=\"font-weight: bold\">)</span><span style=\"color: #800080; text-decoration-color: #800080; font-weight: bold\">w</span><span style=\"font-weight: bold\">(</span>\\<span style=\"color: #800080; text-decoration-color: #800080; font-weight: bold\">partial</span><span style=\"font-weight: bold\">(</span>S<span style=\"font-weight: bold\">))}{</span><span style=\"color: #800080; text-decoration-color: #800080; font-weight: bold\">d</span><span style=\"font-weight: bold\">(</span>S<span style=\"font-weight: bold\">)</span><span style=\"color: #800080; text-decoration-color: #800080; font-weight: bold\">d</span><span style=\"font-weight: bold\">(</span>V-S<span style=\"font-weight: bold\">)}</span> to               <a href=\"file:///Users/geo/anaconda3/lib/python3.11/site-packages/manim/utils/tex_file_writing.py\" target=\"_blank\"><span style=\"color: #7f7f7f; text-decoration-color: #7f7f7f\">tex_file_writing.py</span></a><span style=\"color: #7f7f7f; text-decoration-color: #7f7f7f\">:</span><a href=\"file:///Users/geo/anaconda3/lib/python3.11/site-packages/manim/utils/tex_file_writing.py#109\" target=\"_blank\"><span style=\"color: #7f7f7f; text-decoration-color: #7f7f7f\">109</span></a>\n",
       "<span style=\"color: #7fbfbf; text-decoration-color: #7fbfbf\">                    </span>         media/Tex/5460a7e8ce0bc7a8.tex                                 <span style=\"color: #7f7f7f; text-decoration-color: #7f7f7f\">                       </span>\n",
       "</pre>\n"
      ],
      "text/plain": [
       "\u001b[2;36m                   \u001b[0m\u001b[2;36m \u001b[0m\u001b[32mINFO    \u001b[0m \u001b[1;33mWriting\u001b[0m \\frac\u001b[1m{\u001b[0m\u001b[1;35md\u001b[0m\u001b[1m(\u001b[0mV\u001b[1m)\u001b[0m\u001b[1;35mw\u001b[0m\u001b[1m(\u001b[0m\\\u001b[1;35mpartial\u001b[0m\u001b[1m(\u001b[0mS\u001b[1m)\u001b[0m\u001b[1m)\u001b[0m\u001b[1m}\u001b[0m\u001b[1m{\u001b[0m\u001b[1;35md\u001b[0m\u001b[1m(\u001b[0mS\u001b[1m)\u001b[0m\u001b[1;35md\u001b[0m\u001b[1m(\u001b[0mV-S\u001b[1m)\u001b[0m\u001b[1m}\u001b[0m to               \u001b]8;id=472749;file:///Users/geo/anaconda3/lib/python3.11/site-packages/manim/utils/tex_file_writing.py\u001b\\\u001b[2mtex_file_writing.py\u001b[0m\u001b]8;;\u001b\\\u001b[2m:\u001b[0m\u001b]8;id=722860;file:///Users/geo/anaconda3/lib/python3.11/site-packages/manim/utils/tex_file_writing.py#109\u001b\\\u001b[2m109\u001b[0m\u001b]8;;\u001b\\\n",
       "\u001b[2;36m                    \u001b[0m         media/Tex/5460a7e8ce0bc7a8.tex                                 \u001b[2m                       \u001b[0m\n"
      ]
     },
     "metadata": {},
     "output_type": "display_data"
    },
    {
     "name": "stderr",
     "output_type": "stream",
     "text": [
      "                                                                                                                                    \r"
     ]
    },
    {
     "data": {
      "text/html": [
       "<pre style=\"white-space:pre;overflow-x:auto;line-height:normal;font-family:Menlo,'DejaVu Sans Mono',consolas,'Courier New',monospace\"><span style=\"color: #7fbfbf; text-decoration-color: #7fbfbf\">[10/16/24 16:22:19] </span><span style=\"color: #008000; text-decoration-color: #008000\">INFO    </span> Animation <span style=\"color: #008000; text-decoration-color: #008000\">0</span> : Partial movie file written in                   <a href=\"file:///Users/geo/anaconda3/lib/python3.11/site-packages/manim/scene/scene_file_writer.py\" target=\"_blank\"><span style=\"color: #7f7f7f; text-decoration-color: #7f7f7f\">scene_file_writer.py</span></a><span style=\"color: #7f7f7f; text-decoration-color: #7f7f7f\">:</span><a href=\"file:///Users/geo/anaconda3/lib/python3.11/site-packages/manim/scene/scene_file_writer.py#527\" target=\"_blank\"><span style=\"color: #7f7f7f; text-decoration-color: #7f7f7f\">527</span></a>\n",
       "<span style=\"color: #7fbfbf; text-decoration-color: #7fbfbf\">                    </span>         <span style=\"color: #008000; text-decoration-color: #008000\">'/Users/geo/Documents/courses/CS_2952Q/spectral-graph-theory/</span> <span style=\"color: #7f7f7f; text-decoration-color: #7f7f7f\">                        </span>\n",
       "<span style=\"color: #7fbfbf; text-decoration-color: #7fbfbf\">                    </span>         <span style=\"color: #008000; text-decoration-color: #008000\">chapter20/media/videos/chapter20/1080p60/partial_movie_files/</span> <span style=\"color: #7f7f7f; text-decoration-color: #7f7f7f\">                        </span>\n",
       "<span style=\"color: #7fbfbf; text-decoration-color: #7fbfbf\">                    </span>         <span style=\"color: #008000; text-decoration-color: #008000\">Conductance/3529212410_583236452_223132457.mp4'</span>               <span style=\"color: #7f7f7f; text-decoration-color: #7f7f7f\">                        </span>\n",
       "</pre>\n"
      ],
      "text/plain": [
       "\u001b[2;36m[10/16/24 16:22:19]\u001b[0m\u001b[2;36m \u001b[0m\u001b[32mINFO    \u001b[0m Animation \u001b[32m0\u001b[0m : Partial movie file written in                   \u001b]8;id=630558;file:///Users/geo/anaconda3/lib/python3.11/site-packages/manim/scene/scene_file_writer.py\u001b\\\u001b[2mscene_file_writer.py\u001b[0m\u001b]8;;\u001b\\\u001b[2m:\u001b[0m\u001b]8;id=626614;file:///Users/geo/anaconda3/lib/python3.11/site-packages/manim/scene/scene_file_writer.py#527\u001b\\\u001b[2m527\u001b[0m\u001b]8;;\u001b\\\n",
       "\u001b[2;36m                    \u001b[0m         \u001b[32m'/Users/geo/Documents/courses/CS_2952Q/spectral-graph-theory/\u001b[0m \u001b[2m                        \u001b[0m\n",
       "\u001b[2;36m                    \u001b[0m         \u001b[32mchapter20/media/videos/chapter20/1080p60/partial_movie_files/\u001b[0m \u001b[2m                        \u001b[0m\n",
       "\u001b[2;36m                    \u001b[0m         \u001b[32mConductance/3529212410_583236452_223132457.mp4'\u001b[0m               \u001b[2m                        \u001b[0m\n"
      ]
     },
     "metadata": {},
     "output_type": "display_data"
    },
    {
     "data": {
      "text/html": [
       "<pre style=\"white-space:pre;overflow-x:auto;line-height:normal;font-family:Menlo,'DejaVu Sans Mono',consolas,'Courier New',monospace\"><span style=\"color: #7fbfbf; text-decoration-color: #7fbfbf\">[10/16/24 16:22:20] </span><span style=\"color: #008000; text-decoration-color: #008000\">INFO    </span> Animation <span style=\"color: #008000; text-decoration-color: #008000\">1</span> : Partial movie file written in                   <a href=\"file:///Users/geo/anaconda3/lib/python3.11/site-packages/manim/scene/scene_file_writer.py\" target=\"_blank\"><span style=\"color: #7f7f7f; text-decoration-color: #7f7f7f\">scene_file_writer.py</span></a><span style=\"color: #7f7f7f; text-decoration-color: #7f7f7f\">:</span><a href=\"file:///Users/geo/anaconda3/lib/python3.11/site-packages/manim/scene/scene_file_writer.py#527\" target=\"_blank\"><span style=\"color: #7f7f7f; text-decoration-color: #7f7f7f\">527</span></a>\n",
       "<span style=\"color: #7fbfbf; text-decoration-color: #7fbfbf\">                    </span>         <span style=\"color: #008000; text-decoration-color: #008000\">'/Users/geo/Documents/courses/CS_2952Q/spectral-graph-theory/</span> <span style=\"color: #7f7f7f; text-decoration-color: #7f7f7f\">                        </span>\n",
       "<span style=\"color: #7fbfbf; text-decoration-color: #7fbfbf\">                    </span>         <span style=\"color: #008000; text-decoration-color: #008000\">chapter20/media/videos/chapter20/1080p60/partial_movie_files/</span> <span style=\"color: #7f7f7f; text-decoration-color: #7f7f7f\">                        </span>\n",
       "<span style=\"color: #7fbfbf; text-decoration-color: #7fbfbf\">                    </span>         <span style=\"color: #008000; text-decoration-color: #008000\">Conductance/3040924799_1141282389_1330663048.mp4'</span>             <span style=\"color: #7f7f7f; text-decoration-color: #7f7f7f\">                        </span>\n",
       "</pre>\n"
      ],
      "text/plain": [
       "\u001b[2;36m[10/16/24 16:22:20]\u001b[0m\u001b[2;36m \u001b[0m\u001b[32mINFO    \u001b[0m Animation \u001b[32m1\u001b[0m : Partial movie file written in                   \u001b]8;id=84995;file:///Users/geo/anaconda3/lib/python3.11/site-packages/manim/scene/scene_file_writer.py\u001b\\\u001b[2mscene_file_writer.py\u001b[0m\u001b]8;;\u001b\\\u001b[2m:\u001b[0m\u001b]8;id=604392;file:///Users/geo/anaconda3/lib/python3.11/site-packages/manim/scene/scene_file_writer.py#527\u001b\\\u001b[2m527\u001b[0m\u001b]8;;\u001b\\\n",
       "\u001b[2;36m                    \u001b[0m         \u001b[32m'/Users/geo/Documents/courses/CS_2952Q/spectral-graph-theory/\u001b[0m \u001b[2m                        \u001b[0m\n",
       "\u001b[2;36m                    \u001b[0m         \u001b[32mchapter20/media/videos/chapter20/1080p60/partial_movie_files/\u001b[0m \u001b[2m                        \u001b[0m\n",
       "\u001b[2;36m                    \u001b[0m         \u001b[32mConductance/3040924799_1141282389_1330663048.mp4'\u001b[0m             \u001b[2m                        \u001b[0m\n"
      ]
     },
     "metadata": {},
     "output_type": "display_data"
    },
    {
     "data": {
      "text/html": [
       "<pre style=\"white-space:pre;overflow-x:auto;line-height:normal;font-family:Menlo,'DejaVu Sans Mono',consolas,'Courier New',monospace\"><span style=\"color: #7fbfbf; text-decoration-color: #7fbfbf\">                    </span><span style=\"color: #008000; text-decoration-color: #008000\">INFO    </span> <span style=\"color: #808000; text-decoration-color: #808000; font-weight: bold\">Writing</span> <span style=\"color: #800080; text-decoration-color: #800080; font-weight: bold\">d</span><span style=\"font-weight: bold\">(</span>V<span style=\"font-weight: bold\">)</span> = \\text<span style=\"font-weight: bold\">{</span>degree of <span style=\"font-weight: bold\">}</span> V to                          <a href=\"file:///Users/geo/anaconda3/lib/python3.11/site-packages/manim/utils/tex_file_writing.py\" target=\"_blank\"><span style=\"color: #7f7f7f; text-decoration-color: #7f7f7f\">tex_file_writing.py</span></a><span style=\"color: #7f7f7f; text-decoration-color: #7f7f7f\">:</span><a href=\"file:///Users/geo/anaconda3/lib/python3.11/site-packages/manim/utils/tex_file_writing.py#109\" target=\"_blank\"><span style=\"color: #7f7f7f; text-decoration-color: #7f7f7f\">109</span></a>\n",
       "<span style=\"color: #7fbfbf; text-decoration-color: #7fbfbf\">                    </span>         media/Tex/b0b94f091d5bb800.tex                                 <span style=\"color: #7f7f7f; text-decoration-color: #7f7f7f\">                       </span>\n",
       "</pre>\n"
      ],
      "text/plain": [
       "\u001b[2;36m                   \u001b[0m\u001b[2;36m \u001b[0m\u001b[32mINFO    \u001b[0m \u001b[1;33mWriting\u001b[0m \u001b[1;35md\u001b[0m\u001b[1m(\u001b[0mV\u001b[1m)\u001b[0m = \\text\u001b[1m{\u001b[0mdegree of \u001b[1m}\u001b[0m V to                          \u001b]8;id=977492;file:///Users/geo/anaconda3/lib/python3.11/site-packages/manim/utils/tex_file_writing.py\u001b\\\u001b[2mtex_file_writing.py\u001b[0m\u001b]8;;\u001b\\\u001b[2m:\u001b[0m\u001b]8;id=103875;file:///Users/geo/anaconda3/lib/python3.11/site-packages/manim/utils/tex_file_writing.py#109\u001b\\\u001b[2m109\u001b[0m\u001b]8;;\u001b\\\n",
       "\u001b[2;36m                    \u001b[0m         media/Tex/b0b94f091d5bb800.tex                                 \u001b[2m                       \u001b[0m\n"
      ]
     },
     "metadata": {},
     "output_type": "display_data"
    },
    {
     "data": {
      "text/html": [
       "<pre style=\"white-space:pre;overflow-x:auto;line-height:normal;font-family:Menlo,'DejaVu Sans Mono',consolas,'Courier New',monospace\"><span style=\"color: #7fbfbf; text-decoration-color: #7fbfbf\">                    </span><span style=\"color: #008000; text-decoration-color: #008000\">INFO    </span> <span style=\"color: #808000; text-decoration-color: #808000; font-weight: bold\">Writing</span> <span style=\"color: #800080; text-decoration-color: #800080; font-weight: bold\">w</span><span style=\"font-weight: bold\">(</span>F<span style=\"font-weight: bold\">)</span> = \\text<span style=\"font-weight: bold\">{</span>sum of weights of edges of <span style=\"font-weight: bold\">}</span> F to         <a href=\"file:///Users/geo/anaconda3/lib/python3.11/site-packages/manim/utils/tex_file_writing.py\" target=\"_blank\"><span style=\"color: #7f7f7f; text-decoration-color: #7f7f7f\">tex_file_writing.py</span></a><span style=\"color: #7f7f7f; text-decoration-color: #7f7f7f\">:</span><a href=\"file:///Users/geo/anaconda3/lib/python3.11/site-packages/manim/utils/tex_file_writing.py#109\" target=\"_blank\"><span style=\"color: #7f7f7f; text-decoration-color: #7f7f7f\">109</span></a>\n",
       "<span style=\"color: #7fbfbf; text-decoration-color: #7fbfbf\">                    </span>         media/Tex/0b97f77a8ee77f1d.tex                                 <span style=\"color: #7f7f7f; text-decoration-color: #7f7f7f\">                       </span>\n",
       "</pre>\n"
      ],
      "text/plain": [
       "\u001b[2;36m                   \u001b[0m\u001b[2;36m \u001b[0m\u001b[32mINFO    \u001b[0m \u001b[1;33mWriting\u001b[0m \u001b[1;35mw\u001b[0m\u001b[1m(\u001b[0mF\u001b[1m)\u001b[0m = \\text\u001b[1m{\u001b[0msum of weights of edges of \u001b[1m}\u001b[0m F to         \u001b]8;id=43366;file:///Users/geo/anaconda3/lib/python3.11/site-packages/manim/utils/tex_file_writing.py\u001b\\\u001b[2mtex_file_writing.py\u001b[0m\u001b]8;;\u001b\\\u001b[2m:\u001b[0m\u001b]8;id=656496;file:///Users/geo/anaconda3/lib/python3.11/site-packages/manim/utils/tex_file_writing.py#109\u001b\\\u001b[2m109\u001b[0m\u001b]8;;\u001b\\\n",
       "\u001b[2;36m                    \u001b[0m         media/Tex/0b97f77a8ee77f1d.tex                                 \u001b[2m                       \u001b[0m\n"
      ]
     },
     "metadata": {},
     "output_type": "display_data"
    },
    {
     "name": "stderr",
     "output_type": "stream",
     "text": [
      "                                                                                                                  \r"
     ]
    },
    {
     "data": {
      "text/html": [
       "<pre style=\"white-space:pre;overflow-x:auto;line-height:normal;font-family:Menlo,'DejaVu Sans Mono',consolas,'Courier New',monospace\"><span style=\"color: #7fbfbf; text-decoration-color: #7fbfbf\">[10/16/24 16:22:22] </span><span style=\"color: #008000; text-decoration-color: #008000\">INFO    </span> Animation <span style=\"color: #008000; text-decoration-color: #008000\">2</span> : Partial movie file written in                   <a href=\"file:///Users/geo/anaconda3/lib/python3.11/site-packages/manim/scene/scene_file_writer.py\" target=\"_blank\"><span style=\"color: #7f7f7f; text-decoration-color: #7f7f7f\">scene_file_writer.py</span></a><span style=\"color: #7f7f7f; text-decoration-color: #7f7f7f\">:</span><a href=\"file:///Users/geo/anaconda3/lib/python3.11/site-packages/manim/scene/scene_file_writer.py#527\" target=\"_blank\"><span style=\"color: #7f7f7f; text-decoration-color: #7f7f7f\">527</span></a>\n",
       "<span style=\"color: #7fbfbf; text-decoration-color: #7fbfbf\">                    </span>         <span style=\"color: #008000; text-decoration-color: #008000\">'/Users/geo/Documents/courses/CS_2952Q/spectral-graph-theory/</span> <span style=\"color: #7f7f7f; text-decoration-color: #7f7f7f\">                        </span>\n",
       "<span style=\"color: #7fbfbf; text-decoration-color: #7fbfbf\">                    </span>         <span style=\"color: #008000; text-decoration-color: #008000\">chapter20/media/videos/chapter20/1080p60/partial_movie_files/</span> <span style=\"color: #7f7f7f; text-decoration-color: #7f7f7f\">                        </span>\n",
       "<span style=\"color: #7fbfbf; text-decoration-color: #7fbfbf\">                    </span>         <span style=\"color: #008000; text-decoration-color: #008000\">Conductance/3040924799_3387640637_1086033377.mp4'</span>             <span style=\"color: #7f7f7f; text-decoration-color: #7f7f7f\">                        </span>\n",
       "</pre>\n"
      ],
      "text/plain": [
       "\u001b[2;36m[10/16/24 16:22:22]\u001b[0m\u001b[2;36m \u001b[0m\u001b[32mINFO    \u001b[0m Animation \u001b[32m2\u001b[0m : Partial movie file written in                   \u001b]8;id=759598;file:///Users/geo/anaconda3/lib/python3.11/site-packages/manim/scene/scene_file_writer.py\u001b\\\u001b[2mscene_file_writer.py\u001b[0m\u001b]8;;\u001b\\\u001b[2m:\u001b[0m\u001b]8;id=150359;file:///Users/geo/anaconda3/lib/python3.11/site-packages/manim/scene/scene_file_writer.py#527\u001b\\\u001b[2m527\u001b[0m\u001b]8;;\u001b\\\n",
       "\u001b[2;36m                    \u001b[0m         \u001b[32m'/Users/geo/Documents/courses/CS_2952Q/spectral-graph-theory/\u001b[0m \u001b[2m                        \u001b[0m\n",
       "\u001b[2;36m                    \u001b[0m         \u001b[32mchapter20/media/videos/chapter20/1080p60/partial_movie_files/\u001b[0m \u001b[2m                        \u001b[0m\n",
       "\u001b[2;36m                    \u001b[0m         \u001b[32mConductance/3040924799_3387640637_1086033377.mp4'\u001b[0m             \u001b[2m                        \u001b[0m\n"
      ]
     },
     "metadata": {},
     "output_type": "display_data"
    },
    {
     "data": {
      "text/html": [
       "<pre style=\"white-space:pre;overflow-x:auto;line-height:normal;font-family:Menlo,'DejaVu Sans Mono',consolas,'Courier New',monospace\"><span style=\"color: #7fbfbf; text-decoration-color: #7fbfbf\">                    </span><span style=\"color: #008000; text-decoration-color: #008000\">INFO    </span> Animation <span style=\"color: #008000; text-decoration-color: #008000\">3</span> : Partial movie file written in                   <a href=\"file:///Users/geo/anaconda3/lib/python3.11/site-packages/manim/scene/scene_file_writer.py\" target=\"_blank\"><span style=\"color: #7f7f7f; text-decoration-color: #7f7f7f\">scene_file_writer.py</span></a><span style=\"color: #7f7f7f; text-decoration-color: #7f7f7f\">:</span><a href=\"file:///Users/geo/anaconda3/lib/python3.11/site-packages/manim/scene/scene_file_writer.py#527\" target=\"_blank\"><span style=\"color: #7f7f7f; text-decoration-color: #7f7f7f\">527</span></a>\n",
       "<span style=\"color: #7fbfbf; text-decoration-color: #7fbfbf\">                    </span>         <span style=\"color: #008000; text-decoration-color: #008000\">'/Users/geo/Documents/courses/CS_2952Q/spectral-graph-theory/</span> <span style=\"color: #7f7f7f; text-decoration-color: #7f7f7f\">                        </span>\n",
       "<span style=\"color: #7fbfbf; text-decoration-color: #7fbfbf\">                    </span>         <span style=\"color: #008000; text-decoration-color: #008000\">chapter20/media/videos/chapter20/1080p60/partial_movie_files/</span> <span style=\"color: #7f7f7f; text-decoration-color: #7f7f7f\">                        </span>\n",
       "<span style=\"color: #7fbfbf; text-decoration-color: #7fbfbf\">                    </span>         <span style=\"color: #008000; text-decoration-color: #008000\">Conductance/3040924799_634017564_3564618590.mp4'</span>              <span style=\"color: #7f7f7f; text-decoration-color: #7f7f7f\">                        </span>\n",
       "</pre>\n"
      ],
      "text/plain": [
       "\u001b[2;36m                   \u001b[0m\u001b[2;36m \u001b[0m\u001b[32mINFO    \u001b[0m Animation \u001b[32m3\u001b[0m : Partial movie file written in                   \u001b]8;id=38169;file:///Users/geo/anaconda3/lib/python3.11/site-packages/manim/scene/scene_file_writer.py\u001b\\\u001b[2mscene_file_writer.py\u001b[0m\u001b]8;;\u001b\\\u001b[2m:\u001b[0m\u001b]8;id=776570;file:///Users/geo/anaconda3/lib/python3.11/site-packages/manim/scene/scene_file_writer.py#527\u001b\\\u001b[2m527\u001b[0m\u001b]8;;\u001b\\\n",
       "\u001b[2;36m                    \u001b[0m         \u001b[32m'/Users/geo/Documents/courses/CS_2952Q/spectral-graph-theory/\u001b[0m \u001b[2m                        \u001b[0m\n",
       "\u001b[2;36m                    \u001b[0m         \u001b[32mchapter20/media/videos/chapter20/1080p60/partial_movie_files/\u001b[0m \u001b[2m                        \u001b[0m\n",
       "\u001b[2;36m                    \u001b[0m         \u001b[32mConductance/3040924799_634017564_3564618590.mp4'\u001b[0m              \u001b[2m                        \u001b[0m\n"
      ]
     },
     "metadata": {},
     "output_type": "display_data"
    },
    {
     "name": "stderr",
     "output_type": "stream",
     "text": [
      "                                                                                                                                           \r"
     ]
    },
    {
     "data": {
      "text/html": [
       "<pre style=\"white-space:pre;overflow-x:auto;line-height:normal;font-family:Menlo,'DejaVu Sans Mono',consolas,'Courier New',monospace\"><span style=\"color: #7fbfbf; text-decoration-color: #7fbfbf\">[10/16/24 16:22:24] </span><span style=\"color: #008000; text-decoration-color: #008000\">INFO    </span> Animation <span style=\"color: #008000; text-decoration-color: #008000\">4</span> : Partial movie file written in                   <a href=\"file:///Users/geo/anaconda3/lib/python3.11/site-packages/manim/scene/scene_file_writer.py\" target=\"_blank\"><span style=\"color: #7f7f7f; text-decoration-color: #7f7f7f\">scene_file_writer.py</span></a><span style=\"color: #7f7f7f; text-decoration-color: #7f7f7f\">:</span><a href=\"file:///Users/geo/anaconda3/lib/python3.11/site-packages/manim/scene/scene_file_writer.py#527\" target=\"_blank\"><span style=\"color: #7f7f7f; text-decoration-color: #7f7f7f\">527</span></a>\n",
       "<span style=\"color: #7fbfbf; text-decoration-color: #7fbfbf\">                    </span>         <span style=\"color: #008000; text-decoration-color: #008000\">'/Users/geo/Documents/courses/CS_2952Q/spectral-graph-theory/</span> <span style=\"color: #7f7f7f; text-decoration-color: #7f7f7f\">                        </span>\n",
       "<span style=\"color: #7fbfbf; text-decoration-color: #7fbfbf\">                    </span>         <span style=\"color: #008000; text-decoration-color: #008000\">chapter20/media/videos/chapter20/1080p60/partial_movie_files/</span> <span style=\"color: #7f7f7f; text-decoration-color: #7f7f7f\">                        </span>\n",
       "<span style=\"color: #7fbfbf; text-decoration-color: #7fbfbf\">                    </span>         <span style=\"color: #008000; text-decoration-color: #008000\">Conductance/3040924799_2974905930_2781180435.mp4'</span>             <span style=\"color: #7f7f7f; text-decoration-color: #7f7f7f\">                        </span>\n",
       "</pre>\n"
      ],
      "text/plain": [
       "\u001b[2;36m[10/16/24 16:22:24]\u001b[0m\u001b[2;36m \u001b[0m\u001b[32mINFO    \u001b[0m Animation \u001b[32m4\u001b[0m : Partial movie file written in                   \u001b]8;id=439709;file:///Users/geo/anaconda3/lib/python3.11/site-packages/manim/scene/scene_file_writer.py\u001b\\\u001b[2mscene_file_writer.py\u001b[0m\u001b]8;;\u001b\\\u001b[2m:\u001b[0m\u001b]8;id=445929;file:///Users/geo/anaconda3/lib/python3.11/site-packages/manim/scene/scene_file_writer.py#527\u001b\\\u001b[2m527\u001b[0m\u001b]8;;\u001b\\\n",
       "\u001b[2;36m                    \u001b[0m         \u001b[32m'/Users/geo/Documents/courses/CS_2952Q/spectral-graph-theory/\u001b[0m \u001b[2m                        \u001b[0m\n",
       "\u001b[2;36m                    \u001b[0m         \u001b[32mchapter20/media/videos/chapter20/1080p60/partial_movie_files/\u001b[0m \u001b[2m                        \u001b[0m\n",
       "\u001b[2;36m                    \u001b[0m         \u001b[32mConductance/3040924799_2974905930_2781180435.mp4'\u001b[0m             \u001b[2m                        \u001b[0m\n"
      ]
     },
     "metadata": {},
     "output_type": "display_data"
    },
    {
     "name": "stderr",
     "output_type": "stream",
     "text": [
      "                                                                                                                         \r"
     ]
    },
    {
     "data": {
      "text/html": [
       "<pre style=\"white-space:pre;overflow-x:auto;line-height:normal;font-family:Menlo,'DejaVu Sans Mono',consolas,'Courier New',monospace\"><span style=\"color: #7fbfbf; text-decoration-color: #7fbfbf\">[10/16/24 16:22:25] </span><span style=\"color: #008000; text-decoration-color: #008000\">INFO    </span> Animation <span style=\"color: #008000; text-decoration-color: #008000\">5</span> : Partial movie file written in                   <a href=\"file:///Users/geo/anaconda3/lib/python3.11/site-packages/manim/scene/scene_file_writer.py\" target=\"_blank\"><span style=\"color: #7f7f7f; text-decoration-color: #7f7f7f\">scene_file_writer.py</span></a><span style=\"color: #7f7f7f; text-decoration-color: #7f7f7f\">:</span><a href=\"file:///Users/geo/anaconda3/lib/python3.11/site-packages/manim/scene/scene_file_writer.py#527\" target=\"_blank\"><span style=\"color: #7f7f7f; text-decoration-color: #7f7f7f\">527</span></a>\n",
       "<span style=\"color: #7fbfbf; text-decoration-color: #7fbfbf\">                    </span>         <span style=\"color: #008000; text-decoration-color: #008000\">'/Users/geo/Documents/courses/CS_2952Q/spectral-graph-theory/</span> <span style=\"color: #7f7f7f; text-decoration-color: #7f7f7f\">                        </span>\n",
       "<span style=\"color: #7fbfbf; text-decoration-color: #7fbfbf\">                    </span>         <span style=\"color: #008000; text-decoration-color: #008000\">chapter20/media/videos/chapter20/1080p60/partial_movie_files/</span> <span style=\"color: #7f7f7f; text-decoration-color: #7f7f7f\">                        </span>\n",
       "<span style=\"color: #7fbfbf; text-decoration-color: #7fbfbf\">                    </span>         <span style=\"color: #008000; text-decoration-color: #008000\">Conductance/3040924799_1266480004_758497372.mp4'</span>              <span style=\"color: #7f7f7f; text-decoration-color: #7f7f7f\">                        </span>\n",
       "</pre>\n"
      ],
      "text/plain": [
       "\u001b[2;36m[10/16/24 16:22:25]\u001b[0m\u001b[2;36m \u001b[0m\u001b[32mINFO    \u001b[0m Animation \u001b[32m5\u001b[0m : Partial movie file written in                   \u001b]8;id=417229;file:///Users/geo/anaconda3/lib/python3.11/site-packages/manim/scene/scene_file_writer.py\u001b\\\u001b[2mscene_file_writer.py\u001b[0m\u001b]8;;\u001b\\\u001b[2m:\u001b[0m\u001b]8;id=180858;file:///Users/geo/anaconda3/lib/python3.11/site-packages/manim/scene/scene_file_writer.py#527\u001b\\\u001b[2m527\u001b[0m\u001b]8;;\u001b\\\n",
       "\u001b[2;36m                    \u001b[0m         \u001b[32m'/Users/geo/Documents/courses/CS_2952Q/spectral-graph-theory/\u001b[0m \u001b[2m                        \u001b[0m\n",
       "\u001b[2;36m                    \u001b[0m         \u001b[32mchapter20/media/videos/chapter20/1080p60/partial_movie_files/\u001b[0m \u001b[2m                        \u001b[0m\n",
       "\u001b[2;36m                    \u001b[0m         \u001b[32mConductance/3040924799_1266480004_758497372.mp4'\u001b[0m              \u001b[2m                        \u001b[0m\n"
      ]
     },
     "metadata": {},
     "output_type": "display_data"
    },
    {
     "name": "stderr",
     "output_type": "stream",
     "text": [
      "                                                                                                       \r"
     ]
    },
    {
     "data": {
      "text/html": [
       "<pre style=\"white-space:pre;overflow-x:auto;line-height:normal;font-family:Menlo,'DejaVu Sans Mono',consolas,'Courier New',monospace\"><span style=\"color: #7fbfbf; text-decoration-color: #7fbfbf\">[10/16/24 16:22:26] </span><span style=\"color: #008000; text-decoration-color: #008000\">INFO    </span> Animation <span style=\"color: #008000; text-decoration-color: #008000\">6</span> : Partial movie file written in                   <a href=\"file:///Users/geo/anaconda3/lib/python3.11/site-packages/manim/scene/scene_file_writer.py\" target=\"_blank\"><span style=\"color: #7f7f7f; text-decoration-color: #7f7f7f\">scene_file_writer.py</span></a><span style=\"color: #7f7f7f; text-decoration-color: #7f7f7f\">:</span><a href=\"file:///Users/geo/anaconda3/lib/python3.11/site-packages/manim/scene/scene_file_writer.py#527\" target=\"_blank\"><span style=\"color: #7f7f7f; text-decoration-color: #7f7f7f\">527</span></a>\n",
       "<span style=\"color: #7fbfbf; text-decoration-color: #7fbfbf\">                    </span>         <span style=\"color: #008000; text-decoration-color: #008000\">'/Users/geo/Documents/courses/CS_2952Q/spectral-graph-theory/</span> <span style=\"color: #7f7f7f; text-decoration-color: #7f7f7f\">                        </span>\n",
       "<span style=\"color: #7fbfbf; text-decoration-color: #7fbfbf\">                    </span>         <span style=\"color: #008000; text-decoration-color: #008000\">chapter20/media/videos/chapter20/1080p60/partial_movie_files/</span> <span style=\"color: #7f7f7f; text-decoration-color: #7f7f7f\">                        </span>\n",
       "<span style=\"color: #7fbfbf; text-decoration-color: #7fbfbf\">                    </span>         <span style=\"color: #008000; text-decoration-color: #008000\">Conductance/3040924799_454726901_379131979.mp4'</span>               <span style=\"color: #7f7f7f; text-decoration-color: #7f7f7f\">                        </span>\n",
       "</pre>\n"
      ],
      "text/plain": [
       "\u001b[2;36m[10/16/24 16:22:26]\u001b[0m\u001b[2;36m \u001b[0m\u001b[32mINFO    \u001b[0m Animation \u001b[32m6\u001b[0m : Partial movie file written in                   \u001b]8;id=364519;file:///Users/geo/anaconda3/lib/python3.11/site-packages/manim/scene/scene_file_writer.py\u001b\\\u001b[2mscene_file_writer.py\u001b[0m\u001b]8;;\u001b\\\u001b[2m:\u001b[0m\u001b]8;id=755101;file:///Users/geo/anaconda3/lib/python3.11/site-packages/manim/scene/scene_file_writer.py#527\u001b\\\u001b[2m527\u001b[0m\u001b]8;;\u001b\\\n",
       "\u001b[2;36m                    \u001b[0m         \u001b[32m'/Users/geo/Documents/courses/CS_2952Q/spectral-graph-theory/\u001b[0m \u001b[2m                        \u001b[0m\n",
       "\u001b[2;36m                    \u001b[0m         \u001b[32mchapter20/media/videos/chapter20/1080p60/partial_movie_files/\u001b[0m \u001b[2m                        \u001b[0m\n",
       "\u001b[2;36m                    \u001b[0m         \u001b[32mConductance/3040924799_454726901_379131979.mp4'\u001b[0m               \u001b[2m                        \u001b[0m\n"
      ]
     },
     "metadata": {},
     "output_type": "display_data"
    },
    {
     "data": {
      "text/html": [
       "<pre style=\"white-space:pre;overflow-x:auto;line-height:normal;font-family:Menlo,'DejaVu Sans Mono',consolas,'Courier New',monospace\"><span style=\"color: #7fbfbf; text-decoration-color: #7fbfbf\">                    </span><span style=\"color: #008000; text-decoration-color: #008000\">INFO    </span> <span style=\"color: #808000; text-decoration-color: #808000; font-weight: bold\">Writing</span> \\<span style=\"color: #800080; text-decoration-color: #800080; font-weight: bold\">phi</span><span style=\"font-weight: bold\">(</span>S<span style=\"font-weight: bold\">)</span> =  \\frac<span style=\"font-weight: bold\">{}</span> to media/Tex/3048f7311f314980.tex   <a href=\"file:///Users/geo/anaconda3/lib/python3.11/site-packages/manim/utils/tex_file_writing.py\" target=\"_blank\"><span style=\"color: #7f7f7f; text-decoration-color: #7f7f7f\">tex_file_writing.py</span></a><span style=\"color: #7f7f7f; text-decoration-color: #7f7f7f\">:</span><a href=\"file:///Users/geo/anaconda3/lib/python3.11/site-packages/manim/utils/tex_file_writing.py#109\" target=\"_blank\"><span style=\"color: #7f7f7f; text-decoration-color: #7f7f7f\">109</span></a>\n",
       "</pre>\n"
      ],
      "text/plain": [
       "\u001b[2;36m                   \u001b[0m\u001b[2;36m \u001b[0m\u001b[32mINFO    \u001b[0m \u001b[1;33mWriting\u001b[0m \\\u001b[1;35mphi\u001b[0m\u001b[1m(\u001b[0mS\u001b[1m)\u001b[0m =  \\frac\u001b[1m{\u001b[0m\u001b[1m}\u001b[0m to media/Tex/3048f7311f314980.tex   \u001b]8;id=592181;file:///Users/geo/anaconda3/lib/python3.11/site-packages/manim/utils/tex_file_writing.py\u001b\\\u001b[2mtex_file_writing.py\u001b[0m\u001b]8;;\u001b\\\u001b[2m:\u001b[0m\u001b]8;id=664098;file:///Users/geo/anaconda3/lib/python3.11/site-packages/manim/utils/tex_file_writing.py#109\u001b\\\u001b[2m109\u001b[0m\u001b]8;;\u001b\\\n"
      ]
     },
     "metadata": {},
     "output_type": "display_data"
    },
    {
     "data": {
      "text/html": [
       "<pre style=\"white-space:pre;overflow-x:auto;line-height:normal;font-family:Menlo,'DejaVu Sans Mono',consolas,'Courier New',monospace\"><span style=\"color: #7fbfbf; text-decoration-color: #7fbfbf\">                    </span><span style=\"color: #800000; text-decoration-color: #800000; font-weight: bold\">ERROR   </span> LaTeX compilation error: Missing <span style=\"font-weight: bold\">}</span> inserted.                   <a href=\"file:///Users/geo/anaconda3/lib/python3.11/site-packages/manim/utils/tex_file_writing.py\" target=\"_blank\"><span style=\"color: #7f7f7f; text-decoration-color: #7f7f7f\">tex_file_writing.py</span></a><span style=\"color: #7f7f7f; text-decoration-color: #7f7f7f\">:</span><a href=\"file:///Users/geo/anaconda3/lib/python3.11/site-packages/manim/utils/tex_file_writing.py#314\" target=\"_blank\"><span style=\"color: #7f7f7f; text-decoration-color: #7f7f7f\">314</span></a>\n",
       "<span style=\"color: #7fbfbf; text-decoration-color: #7fbfbf\">                    </span>                                                                        <span style=\"color: #7f7f7f; text-decoration-color: #7f7f7f\">                       </span>\n",
       "</pre>\n"
      ],
      "text/plain": [
       "\u001b[2;36m                   \u001b[0m\u001b[2;36m \u001b[0m\u001b[1;31mERROR   \u001b[0m LaTeX compilation error: Missing \u001b[1m}\u001b[0m inserted.                   \u001b]8;id=138612;file:///Users/geo/anaconda3/lib/python3.11/site-packages/manim/utils/tex_file_writing.py\u001b\\\u001b[2mtex_file_writing.py\u001b[0m\u001b]8;;\u001b\\\u001b[2m:\u001b[0m\u001b]8;id=9054;file:///Users/geo/anaconda3/lib/python3.11/site-packages/manim/utils/tex_file_writing.py#314\u001b\\\u001b[2m314\u001b[0m\u001b]8;;\u001b\\\n",
       "\u001b[2;36m                    \u001b[0m                                                                        \u001b[2m                       \u001b[0m\n"
      ]
     },
     "metadata": {},
     "output_type": "display_data"
    },
    {
     "data": {
      "text/html": [
       "<pre style=\"white-space:pre;overflow-x:auto;line-height:normal;font-family:Menlo,'DejaVu Sans Mono',consolas,'Courier New',monospace\"><span style=\"color: #7fbfbf; text-decoration-color: #7fbfbf\">                    </span><span style=\"color: #800000; text-decoration-color: #800000; font-weight: bold\">ERROR   </span> Context of error:                                              <a href=\"file:///Users/geo/anaconda3/lib/python3.11/site-packages/manim/utils/tex_file_writing.py\" target=\"_blank\"><span style=\"color: #7f7f7f; text-decoration-color: #7f7f7f\">tex_file_writing.py</span></a><span style=\"color: #7f7f7f; text-decoration-color: #7f7f7f\">:</span><a href=\"file:///Users/geo/anaconda3/lib/python3.11/site-packages/manim/utils/tex_file_writing.py#348\" target=\"_blank\"><span style=\"color: #7f7f7f; text-decoration-color: #7f7f7f\">348</span></a>\n",
       "<span style=\"color: #7fbfbf; text-decoration-color: #7fbfbf\">                    </span>         -&gt; \\<span style=\"color: #800080; text-decoration-color: #800080; font-weight: bold\">phi</span><span style=\"font-weight: bold\">(</span>S<span style=\"font-weight: bold\">)</span> =  \\frac<span style=\"font-weight: bold\">{}</span>                                          <span style=\"color: #7f7f7f; text-decoration-color: #7f7f7f\">                       </span>\n",
       "<span style=\"color: #7fbfbf; text-decoration-color: #7fbfbf\">                    </span>         \\end<span style=\"font-weight: bold\">{</span>align*<span style=\"font-weight: bold\">}</span>                                                   <span style=\"color: #7f7f7f; text-decoration-color: #7f7f7f\">                       </span>\n",
       "<span style=\"color: #7fbfbf; text-decoration-color: #7fbfbf\">                    </span>         \\end<span style=\"font-weight: bold\">{</span>document<span style=\"font-weight: bold\">}</span>                                                 <span style=\"color: #7f7f7f; text-decoration-color: #7f7f7f\">                       </span>\n",
       "</pre>\n"
      ],
      "text/plain": [
       "\u001b[2;36m                   \u001b[0m\u001b[2;36m \u001b[0m\u001b[1;31mERROR   \u001b[0m Context of error:                                              \u001b]8;id=790760;file:///Users/geo/anaconda3/lib/python3.11/site-packages/manim/utils/tex_file_writing.py\u001b\\\u001b[2mtex_file_writing.py\u001b[0m\u001b]8;;\u001b\\\u001b[2m:\u001b[0m\u001b]8;id=560721;file:///Users/geo/anaconda3/lib/python3.11/site-packages/manim/utils/tex_file_writing.py#348\u001b\\\u001b[2m348\u001b[0m\u001b]8;;\u001b\\\n",
       "\u001b[2;36m                    \u001b[0m         -> \\\u001b[1;35mphi\u001b[0m\u001b[1m(\u001b[0mS\u001b[1m)\u001b[0m =  \\frac\u001b[1m{\u001b[0m\u001b[1m}\u001b[0m                                          \u001b[2m                       \u001b[0m\n",
       "\u001b[2;36m                    \u001b[0m         \\end\u001b[1m{\u001b[0malign*\u001b[1m}\u001b[0m                                                   \u001b[2m                       \u001b[0m\n",
       "\u001b[2;36m                    \u001b[0m         \\end\u001b[1m{\u001b[0mdocument\u001b[1m}\u001b[0m                                                 \u001b[2m                       \u001b[0m\n"
      ]
     },
     "metadata": {},
     "output_type": "display_data"
    },
    {
     "ename": "ValueError",
     "evalue": "latex error converting to dvi. See log output above or the log file: media/Tex/3048f7311f314980.log",
     "output_type": "error",
     "traceback": [
      "\u001b[0;31m---------------------------------------------------------------------------\u001b[0m",
      "\u001b[0;31mValueError\u001b[0m                                Traceback (most recent call last)",
      "\u001b[1;32m/Users/geo/Documents/courses/CS_2952Q/spectral-graph-theory/chapter20/main.ipynb Cell 4\u001b[0m line \u001b[0;36m1\n\u001b[0;32m----> <a href='vscode-notebook-cell:/Users/geo/Documents/courses/CS_2952Q/spectral-graph-theory/chapter20/main.ipynb#W6sZmlsZQ%3D%3D?line=0'>1</a>\u001b[0m get_ipython()\u001b[39m.\u001b[39mrun_cell_magic(\u001b[39m'\u001b[39m\u001b[39mmanim\u001b[39m\u001b[39m'\u001b[39m, \u001b[39m'\u001b[39m\u001b[39m-qh Conductance\u001b[39m\u001b[39m'\u001b[39m, \u001b[39m'\u001b[39m\u001b[39m\\n\u001b[39;00m\u001b[39mclass Conductance(Scene):\u001b[39m\u001b[39m\\n\u001b[39;00m\u001b[39m    def construct(self):\u001b[39m\u001b[39m\\n\u001b[39;00m\u001b[39m        eq1 = MathTex(r\u001b[39m\u001b[39m\"\u001b[39m\u001b[39m\\\\\u001b[39;00m\u001b[39mphi(S) = \u001b[39m\u001b[39m\"\u001b[39m\u001b[39m, r\u001b[39m\u001b[39m\"\u001b[39m\u001b[39m\\\\\u001b[39;00m\u001b[39mfrac\u001b[39m\u001b[39m{\u001b[39m\u001b[39md(V)w(\u001b[39m\u001b[39m\\\\\u001b[39;00m\u001b[39mpartial(S))}\u001b[39m\u001b[39m{\u001b[39m\u001b[39md(S)d(V-S)}\u001b[39m\u001b[39m\"\u001b[39m\u001b[39m)\u001b[39m\u001b[39m\\n\u001b[39;00m\u001b[39m\\n\u001b[39;00m\u001b[39m        self.play(Write(eq1), run_time=1)\u001b[39m\u001b[39m\\n\u001b[39;00m\u001b[39m        self.wait(2)\u001b[39m\u001b[39m\\n\u001b[39;00m\u001b[39m\\n\u001b[39;00m\u001b[39m        eq1.move_to(LEFT * 3)\u001b[39m\u001b[39m\\n\u001b[39;00m\u001b[39m\\n\u001b[39;00m\u001b[39m        def1 = MathTex(r\u001b[39m\u001b[39m\"\u001b[39m\u001b[39md(V) = \u001b[39m\u001b[39m\\\\\u001b[39;00m\u001b[39mtext\u001b[39m\u001b[39m{\u001b[39m\u001b[39mdegree of } V\u001b[39m\u001b[39m\"\u001b[39m\u001b[39m)\u001b[39m\u001b[39m\\n\u001b[39;00m\u001b[39m        def2 = MathTex(r\u001b[39m\u001b[39m\"\u001b[39m\u001b[39mw(F) = \u001b[39m\u001b[39m\\\\\u001b[39;00m\u001b[39mtext\u001b[39m\u001b[39m{\u001b[39m\u001b[39msum of weights of edges of } F\u001b[39m\u001b[39m\"\u001b[39m\u001b[39m)\u001b[39m\u001b[39m\\n\u001b[39;00m\u001b[39m\\n\u001b[39;00m\u001b[39m\\n\u001b[39;00m\u001b[39m        def1.next_to(eq1, RIGHT + UP, buff=1.5)\u001b[39m\u001b[39m\\n\u001b[39;00m\u001b[39m        def2.next_to(def1, DOWN, buff=0.5)\u001b[39m\u001b[39m\\n\u001b[39;00m\u001b[39m\\n\u001b[39;00m\u001b[39m        self.play(Write(def1), Write(def2), run_time=1)\u001b[39m\u001b[39m\\n\u001b[39;00m\u001b[39m\\n\u001b[39;00m\u001b[39m        self.wait(2)\u001b[39m\u001b[39m\\n\u001b[39;00m\u001b[39m\\n\u001b[39;00m\u001b[39m        self.play(FadeOut(eq1), FadeOut(def1), FadeOut(def2))\u001b[39m\u001b[39m\\n\u001b[39;00m\u001b[39m\\n\u001b[39;00m\u001b[39m        g, vertex_labels, edge_labels, S_region, S_label = create_partition_graph(\u001b[39m\u001b[39m\\n\u001b[39;00m\u001b[39m            num_edges=14, graph_size=10, partition_ratio=3)\u001b[39m\u001b[39m\\n\u001b[39;00m\u001b[39m\\n\u001b[39;00m\u001b[39m        edge_labels = []\u001b[39m\u001b[39m\\n\u001b[39;00m\u001b[39m        for e in g.edges:\u001b[39m\u001b[39m\\n\u001b[39;00m\u001b[39m            dot = Dot(fill_opacity=0.75, color=config.background_color, radius=.16).move_to(g.edges[e].get_center())\u001b[39m\u001b[39m\\n\u001b[39;00m\u001b[39m            label = (MathTex(random.choice([1, 2, 3, 4, 5]))\u001b[39m\u001b[39m\\n\u001b[39;00m\u001b[39m                    .scale(0.5)\u001b[39m\u001b[39m\\n\u001b[39;00m\u001b[39m                    .next_to(g.edges[e], 0)\u001b[39m\u001b[39m\\n\u001b[39;00m\u001b[39m            )\u001b[39m\u001b[39m\\n\u001b[39;00m\u001b[39m            edge_labels.append(VGroup(dot, label))\u001b[39m\u001b[39m\\n\u001b[39;00m\u001b[39m\\n\u001b[39;00m\u001b[39m        self.play(Write(g), Write(S_region), Write(S_label), run_time=2)\u001b[39m\u001b[39m\\n\u001b[39;00m\u001b[39m\\n\u001b[39;00m\u001b[39m        vgroup = VGroup(g, S_region, S_label)\u001b[39m\u001b[39m\\n\u001b[39;00m\u001b[39m\\n\u001b[39;00m\u001b[39m        self.play(vgroup.animate.scale(0.8).to_edge(LEFT, buff=1.5))\u001b[39m\u001b[39m\\n\u001b[39;00m\u001b[39m\\n\u001b[39;00m\u001b[39m        eq2 = MathTex(r\u001b[39m\u001b[39m\"\u001b[39m\u001b[39m\\\\\u001b[39;00m\u001b[39mphi(S) = \u001b[39m\u001b[39m\"\u001b[39m\u001b[39m, r\u001b[39m\u001b[39m\"\u001b[39m\u001b[39m\\\\\u001b[39;00m\u001b[39mfrac\u001b[39m\u001b[39m{\u001b[39m\u001b[39md(V)w(\u001b[39m\u001b[39m\\\\\u001b[39;00m\u001b[39mpartial(S))}\u001b[39m\u001b[39m{\u001b[39m\u001b[39md(S)d(V-S)}\u001b[39m\u001b[39m\"\u001b[39m\u001b[39m)\u001b[39m\u001b[39m\\n\u001b[39;00m\u001b[39m        eq3 = MathTex(r\u001b[39m\u001b[39m\"\u001b[39m\u001b[39m\\\\\u001b[39;00m\u001b[39mphi(S) = \u001b[39m\u001b[39m\"\u001b[39m\u001b[39m, r\u001b[39m\u001b[39m\"\u001b[39m\u001b[39m\\\\\u001b[39;00m\u001b[39mfrac\u001b[39m\u001b[39m{}\u001b[39;00m\u001b[39m\"\u001b[39m\u001b[39m)\u001b[39m\u001b[39m\\n\u001b[39;00m\u001b[39m'\u001b[39m)\n",
      "File \u001b[0;32m~/anaconda3/lib/python3.11/site-packages/IPython/core/interactiveshell.py:2493\u001b[0m, in \u001b[0;36mInteractiveShell.run_cell_magic\u001b[0;34m(self, magic_name, line, cell)\u001b[0m\n\u001b[1;32m   2491\u001b[0m \u001b[39mwith\u001b[39;00m \u001b[39mself\u001b[39m\u001b[39m.\u001b[39mbuiltin_trap:\n\u001b[1;32m   2492\u001b[0m     args \u001b[39m=\u001b[39m (magic_arg_s, cell)\n\u001b[0;32m-> 2493\u001b[0m     result \u001b[39m=\u001b[39m fn(\u001b[39m*\u001b[39margs, \u001b[39m*\u001b[39m\u001b[39m*\u001b[39mkwargs)\n\u001b[1;32m   2495\u001b[0m \u001b[39m# The code below prevents the output from being displayed\u001b[39;00m\n\u001b[1;32m   2496\u001b[0m \u001b[39m# when using magics with decorator @output_can_be_silenced\u001b[39;00m\n\u001b[1;32m   2497\u001b[0m \u001b[39m# when the last Python token in the expression is a ';'.\u001b[39;00m\n\u001b[1;32m   2498\u001b[0m \u001b[39mif\u001b[39;00m \u001b[39mgetattr\u001b[39m(fn, magic\u001b[39m.\u001b[39mMAGIC_OUTPUT_CAN_BE_SILENCED, \u001b[39mFalse\u001b[39;00m):\n",
      "File \u001b[0;32m~/anaconda3/lib/python3.11/site-packages/manim/utils/ipython_magic.py:143\u001b[0m, in \u001b[0;36mManimMagic.manim\u001b[0;34m(self, line, cell, local_ns)\u001b[0m\n\u001b[1;32m    141\u001b[0m     SceneClass \u001b[39m=\u001b[39m local_ns[config[\u001b[39m\"\u001b[39m\u001b[39mscene_names\u001b[39m\u001b[39m\"\u001b[39m][\u001b[39m0\u001b[39m]]\n\u001b[1;32m    142\u001b[0m     scene \u001b[39m=\u001b[39m SceneClass(renderer\u001b[39m=\u001b[39mrenderer)\n\u001b[0;32m--> 143\u001b[0m     scene\u001b[39m.\u001b[39mrender()\n\u001b[1;32m    144\u001b[0m \u001b[39mfinally\u001b[39;00m:\n\u001b[1;32m    145\u001b[0m     \u001b[39m# Shader cache becomes invalid as the context is destroyed\u001b[39;00m\n\u001b[1;32m    146\u001b[0m     shader_program_cache\u001b[39m.\u001b[39mclear()\n",
      "File \u001b[0;32m~/anaconda3/lib/python3.11/site-packages/manim/scene/scene.py:229\u001b[0m, in \u001b[0;36mScene.render\u001b[0;34m(self, preview)\u001b[0m\n\u001b[1;32m    227\u001b[0m \u001b[39mself\u001b[39m\u001b[39m.\u001b[39msetup()\n\u001b[1;32m    228\u001b[0m \u001b[39mtry\u001b[39;00m:\n\u001b[0;32m--> 229\u001b[0m     \u001b[39mself\u001b[39m\u001b[39m.\u001b[39mconstruct()\n\u001b[1;32m    230\u001b[0m \u001b[39mexcept\u001b[39;00m EndSceneEarlyException:\n\u001b[1;32m    231\u001b[0m     \u001b[39mpass\u001b[39;00m\n",
      "File \u001b[0;32m<string>:43\u001b[0m, in \u001b[0;36mconstruct\u001b[0;34m(self)\u001b[0m\n",
      "File \u001b[0;32m~/anaconda3/lib/python3.11/site-packages/manim/mobject/text/tex_mobject.py:293\u001b[0m, in \u001b[0;36mMathTex.__init__\u001b[0;34m(self, arg_separator, substrings_to_isolate, tex_to_color_map, tex_environment, *tex_strings, **kwargs)\u001b[0m\n\u001b[1;32m    280\u001b[0m     \u001b[39mif\u001b[39;00m \u001b[39mself\u001b[39m\u001b[39m.\u001b[39mbrace_notation_split_occurred:\n\u001b[1;32m    281\u001b[0m         logger\u001b[39m.\u001b[39merror(\n\u001b[1;32m    282\u001b[0m             dedent(\n\u001b[1;32m    283\u001b[0m \u001b[39m                \u001b[39m\u001b[39m\"\"\"\\\u001b[39;00m\n\u001b[0;32m   (...)\u001b[0m\n\u001b[1;32m    291\u001b[0m             ),\n\u001b[1;32m    292\u001b[0m         )\n\u001b[0;32m--> 293\u001b[0m     \u001b[39mraise\u001b[39;00m compilation_error\n\u001b[1;32m    294\u001b[0m \u001b[39mself\u001b[39m\u001b[39m.\u001b[39mset_color_by_tex_to_color_map(\u001b[39mself\u001b[39m\u001b[39m.\u001b[39mtex_to_color_map)\n\u001b[1;32m    296\u001b[0m \u001b[39mif\u001b[39;00m \u001b[39mself\u001b[39m\u001b[39m.\u001b[39morganize_left_to_right:\n",
      "File \u001b[0;32m~/anaconda3/lib/python3.11/site-packages/manim/mobject/text/tex_mobject.py:272\u001b[0m, in \u001b[0;36mMathTex.__init__\u001b[0;34m(self, arg_separator, substrings_to_isolate, tex_to_color_map, tex_environment, *tex_strings, **kwargs)\u001b[0m\n\u001b[1;32m    270\u001b[0m \u001b[39mself\u001b[39m\u001b[39m.\u001b[39mtex_strings \u001b[39m=\u001b[39m \u001b[39mself\u001b[39m\u001b[39m.\u001b[39m_break_up_tex_strings(tex_strings)\n\u001b[1;32m    271\u001b[0m \u001b[39mtry\u001b[39;00m:\n\u001b[0;32m--> 272\u001b[0m     \u001b[39msuper\u001b[39m()\u001b[39m.\u001b[39m\u001b[39m__init__\u001b[39m(\n\u001b[1;32m    273\u001b[0m         \u001b[39mself\u001b[39m\u001b[39m.\u001b[39marg_separator\u001b[39m.\u001b[39mjoin(\u001b[39mself\u001b[39m\u001b[39m.\u001b[39mtex_strings),\n\u001b[1;32m    274\u001b[0m         tex_environment\u001b[39m=\u001b[39m\u001b[39mself\u001b[39m\u001b[39m.\u001b[39mtex_environment,\n\u001b[1;32m    275\u001b[0m         tex_template\u001b[39m=\u001b[39m\u001b[39mself\u001b[39m\u001b[39m.\u001b[39mtex_template,\n\u001b[1;32m    276\u001b[0m         \u001b[39m*\u001b[39m\u001b[39m*\u001b[39mkwargs,\n\u001b[1;32m    277\u001b[0m     )\n\u001b[1;32m    278\u001b[0m     \u001b[39mself\u001b[39m\u001b[39m.\u001b[39m_break_up_by_substrings()\n\u001b[1;32m    279\u001b[0m \u001b[39mexcept\u001b[39;00m \u001b[39mValueError\u001b[39;00m \u001b[39mas\u001b[39;00m compilation_error:\n",
      "File \u001b[0;32m~/anaconda3/lib/python3.11/site-packages/manim/mobject/text/tex_mobject.py:81\u001b[0m, in \u001b[0;36mSingleStringMathTex.__init__\u001b[0;34m(self, tex_string, stroke_width, should_center, height, organize_left_to_right, tex_environment, tex_template, font_size, **kwargs)\u001b[0m\n\u001b[1;32m     79\u001b[0m \u001b[39massert\u001b[39;00m \u001b[39misinstance\u001b[39m(tex_string, \u001b[39mstr\u001b[39m)\n\u001b[1;32m     80\u001b[0m \u001b[39mself\u001b[39m\u001b[39m.\u001b[39mtex_string \u001b[39m=\u001b[39m tex_string\n\u001b[0;32m---> 81\u001b[0m file_name \u001b[39m=\u001b[39m tex_to_svg_file(\n\u001b[1;32m     82\u001b[0m     \u001b[39mself\u001b[39m\u001b[39m.\u001b[39m_get_modified_expression(tex_string),\n\u001b[1;32m     83\u001b[0m     environment\u001b[39m=\u001b[39m\u001b[39mself\u001b[39m\u001b[39m.\u001b[39mtex_environment,\n\u001b[1;32m     84\u001b[0m     tex_template\u001b[39m=\u001b[39m\u001b[39mself\u001b[39m\u001b[39m.\u001b[39mtex_template,\n\u001b[1;32m     85\u001b[0m )\n\u001b[1;32m     86\u001b[0m \u001b[39msuper\u001b[39m()\u001b[39m.\u001b[39m\u001b[39m__init__\u001b[39m(\n\u001b[1;32m     87\u001b[0m     file_name\u001b[39m=\u001b[39mfile_name,\n\u001b[1;32m     88\u001b[0m     should_center\u001b[39m=\u001b[39mshould_center,\n\u001b[0;32m   (...)\u001b[0m\n\u001b[1;32m     95\u001b[0m     \u001b[39m*\u001b[39m\u001b[39m*\u001b[39mkwargs,\n\u001b[1;32m     96\u001b[0m )\n\u001b[1;32m     97\u001b[0m \u001b[39mself\u001b[39m\u001b[39m.\u001b[39minit_colors()\n",
      "File \u001b[0;32m~/anaconda3/lib/python3.11/site-packages/manim/utils/tex_file_writing.py:63\u001b[0m, in \u001b[0;36mtex_to_svg_file\u001b[0;34m(expression, environment, tex_template)\u001b[0m\n\u001b[1;32m     60\u001b[0m \u001b[39mif\u001b[39;00m svg_file\u001b[39m.\u001b[39mexists():\n\u001b[1;32m     61\u001b[0m     \u001b[39mreturn\u001b[39;00m svg_file\n\u001b[0;32m---> 63\u001b[0m dvi_file \u001b[39m=\u001b[39m compile_tex(\n\u001b[1;32m     64\u001b[0m     tex_file,\n\u001b[1;32m     65\u001b[0m     tex_template\u001b[39m.\u001b[39mtex_compiler,\n\u001b[1;32m     66\u001b[0m     tex_template\u001b[39m.\u001b[39moutput_format,\n\u001b[1;32m     67\u001b[0m )\n\u001b[1;32m     68\u001b[0m svg_file \u001b[39m=\u001b[39m convert_to_svg(dvi_file, tex_template\u001b[39m.\u001b[39moutput_format)\n\u001b[1;32m     69\u001b[0m \u001b[39mif\u001b[39;00m \u001b[39mnot\u001b[39;00m config[\u001b[39m\"\u001b[39m\u001b[39mno_latex_cleanup\u001b[39m\u001b[39m\"\u001b[39m]:\n",
      "File \u001b[0;32m~/anaconda3/lib/python3.11/site-packages/manim/utils/tex_file_writing.py:213\u001b[0m, in \u001b[0;36mcompile_tex\u001b[0;34m(tex_file, tex_compiler, output_format)\u001b[0m\n\u001b[1;32m    211\u001b[0m         log_file \u001b[39m=\u001b[39m tex_file\u001b[39m.\u001b[39mwith_suffix(\u001b[39m\"\u001b[39m\u001b[39m.log\u001b[39m\u001b[39m\"\u001b[39m)\n\u001b[1;32m    212\u001b[0m         print_all_tex_errors(log_file, tex_compiler, tex_file)\n\u001b[0;32m--> 213\u001b[0m         \u001b[39mraise\u001b[39;00m \u001b[39mValueError\u001b[39;00m(\n\u001b[1;32m    214\u001b[0m             \u001b[39mf\u001b[39m\u001b[39m\"\u001b[39m\u001b[39m{\u001b[39;00mtex_compiler\u001b[39m}\u001b[39;00m\u001b[39m error converting to\u001b[39m\u001b[39m\"\u001b[39m\n\u001b[1;32m    215\u001b[0m             \u001b[39mf\u001b[39m\u001b[39m\"\u001b[39m\u001b[39m \u001b[39m\u001b[39m{\u001b[39;00moutput_format[\u001b[39m1\u001b[39m:]\u001b[39m}\u001b[39;00m\u001b[39m. See log output above or\u001b[39m\u001b[39m\"\u001b[39m\n\u001b[1;32m    216\u001b[0m             \u001b[39mf\u001b[39m\u001b[39m\"\u001b[39m\u001b[39m the log file: \u001b[39m\u001b[39m{\u001b[39;00mlog_file\u001b[39m}\u001b[39;00m\u001b[39m\"\u001b[39m,\n\u001b[1;32m    217\u001b[0m         )\n\u001b[1;32m    218\u001b[0m \u001b[39mreturn\u001b[39;00m result\n",
      "\u001b[0;31mValueError\u001b[0m: latex error converting to dvi. See log output above or the log file: media/Tex/3048f7311f314980.log"
     ]
    }
   ],
   "source": [
    "%%manim -qh Conductance\n",
    "\n",
    "class Conductance(Scene):\n",
    "    def construct(self):\n",
    "        eq1 = MathTex(r\"\\phi(S) = \", r\"\\frac{d(V)w(\\partial(S))}{d(S)d(V-S)}\")\n",
    "\n",
    "        self.play(Write(eq1), run_time=1)\n",
    "        self.wait(2)\n",
    "\n",
    "        eq1.move_to(LEFT * 3)\n",
    "\n",
    "        def1 = MathTex(r\"d(V) = \\text{degree of } V\")\n",
    "        def2 = MathTex(r\"w(F) = \\text{sum of weights of edges of } F\")\n",
    "\n",
    "\n",
    "        def1.next_to(eq1, RIGHT + UP, buff=1.5)\n",
    "        def2.next_to(def1, DOWN, buff=0.5)\n",
    "\n",
    "        self.play(Write(def1), Write(def2), run_time=1)\n",
    "\n",
    "        self.wait(2)\n",
    "\n",
    "        self.play(FadeOut(eq1), FadeOut(def1), FadeOut(def2))\n",
    "\n",
    "        g, vertex_labels, edge_labels, S_region, S_label = create_partition_graph(\n",
    "            num_edges=14, graph_size=10, partition_ratio=3)\n",
    "\n",
    "        edge_labels = []\n",
    "        for e in g.edges:\n",
    "            dot = Dot(fill_opacity=0.75, color=config.background_color, radius=.16).move_to(g.edges[e].get_center())\n",
    "            label = (MathTex(random.choice([1, 2, 3, 4, 5]))\n",
    "                    .scale(0.5)\n",
    "                    .next_to(g.edges[e], 0)\n",
    "            )\n",
    "            edge_labels.append(VGroup(dot, label))\n",
    "\n",
    "        self.play(Write(g), Write(S_region), Write(S_label), run_time=2)\n",
    "\n",
    "        vgroup = VGroup(g, S_region, S_label)\n",
    "\n",
    "        self.play(vgroup.animate.scale(0.8).to_edge(LEFT, buff=1.5))\n",
    "\n",
    "        eq2 = MathTex(r\"\\phi(S) = \", r\"\\frac{d(V)w(\\partial(S))}{d(S)d(V-S)}\")\n",
    "        eq3 = MathTex(r\"\\phi(S) = \", r\"\\frac{}\")"
   ]
  },
  {
   "cell_type": "code",
   "execution_count": null,
   "metadata": {},
   "outputs": [],
   "source": []
  }
 ],
 "metadata": {
  "kernelspec": {
   "display_name": "base",
   "language": "python",
   "name": "python3"
  },
  "language_info": {
   "codemirror_mode": {
    "name": "ipython",
    "version": 3
   },
   "file_extension": ".py",
   "mimetype": "text/x-python",
   "name": "python",
   "nbconvert_exporter": "python",
   "pygments_lexer": "ipython3",
   "version": "3.11.5"
  }
 },
 "nbformat": 4,
 "nbformat_minor": 2
}
