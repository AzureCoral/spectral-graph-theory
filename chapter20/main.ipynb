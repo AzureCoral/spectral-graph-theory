{
 "cells": [
  {
   "cell_type": "code",
   "execution_count": 1,
   "metadata": {},
   "outputs": [],
   "source": [
    "from manim import *\n",
    "\n",
    "TITLE_SIZE = 40\n",
    "SUBTITLE_SIZE = 24\n",
    "\n",
    "config.verbosity = \"WARNING\""
   ]
  },
  {
   "cell_type": "code",
   "execution_count": 4,
   "metadata": {},
   "outputs": [
    {
     "data": {
      "text/html": [
       "<pre style=\"white-space:pre;overflow-x:auto;line-height:normal;font-family:Menlo,'DejaVu Sans Mono',consolas,'Courier New',monospace\">Manim Community <span style=\"color: #008000; text-decoration-color: #008000\">v0.18.1</span>\n",
       "\n",
       "</pre>\n"
      ],
      "text/plain": [
       "Manim Community \u001b[32mv0.\u001b[0m\u001b[32m18.1\u001b[0m\n",
       "\n"
      ]
     },
     "metadata": {},
     "output_type": "display_data"
    },
    {
     "name": "stderr",
     "output_type": "stream",
     "text": [
      "                                                                                                                                            \r"
     ]
    },
    {
     "data": {
      "text/html": [
       "<video src=\"media/jupyter/Isoperimetry@2024-10-12@15-35-35.mp4\" controls autoplay loop style=\"max-width: 60%;\"  >\n",
       "      Your browser does not support the <code>video</code> element.\n",
       "    </video>"
      ],
      "text/plain": [
       "<IPython.core.display.Video object>"
      ]
     },
     "metadata": {},
     "output_type": "display_data"
    }
   ],
   "source": [
    "%%manim -qh Isoperimetry\n",
    "\n",
    "\n",
    "class Isoperimetry(Scene):\n",
    "    def construct(self):\n",
    "        title = Text(\"Isoperimetry Ratio\", font_size=TITLE_SIZE, color=BLUE).to_edge(UP + LEFT, buff=0.5)\n",
    "\n",
    "        self.play(Create(title))\n",
    "        self.wait(3)\n",
    "\n",
    "        vertices = [1, 2, 3, 4, 5, 6, 7]\n",
    "        edges = [(1, 2), (2, 3), (3, 4), (4, 5), (6, 1), (1, 4), (2, 5), (3, 6), (4, 6), (1, 5), (2, 7), (5, 7)]\n",
    "\n",
    "        g = Graph(vertices, edges, layout=\"circular\", layout_scale=2.5, labels=True)\n",
    "\n",
    "        self.play(Write(g))\n",
    "        self.wait(5)\n",
    "\n",
    "        subset_vertices = [1, 4, 5]\n",
    "        boundary_edges = [(1, 2), (3, 4), (6, 1), (2, 5), (4, 6), (5, 7)]\n",
    "\n",
    "        # Color the subset vertices\n",
    "        for vertex in subset_vertices:\n",
    "            g.vertices[vertex].set_color(RED)\n",
    "\n",
    "        self.play(*[FadeToColor(g.vertices[vertex], RED) for vertex in subset_vertices])\n",
    "        self.wait(2)\n",
    "\n",
    "        for edge in boundary_edges:\n",
    "            g.edges[edge].set_color(GREEN)\n",
    "\n",
    "        self.play(*[FadeToColor(g.edges[edge], GREEN) for edge in boundary_edges])\n",
    "        self.wait(2)\n",
    "\n",
    "        self.play(g.animate.scale(0.7).to_edge(LEFT, buff=1.5))\n",
    "\n",
    "        text = MathTex(r\"\\theta(S) = \\frac{|\\text{boundary edges}|}{|\\text{S}|}\", font_size=40)\n",
    "        text2 = MathTex(r\" = \\frac{6}{3} = 2\", font_size=40)\n",
    "\n",
    "        text.move_to(RIGHT * 2)\n",
    "        self.play(Write(text))\n",
    "        self.wait(3)\n",
    "        self.play(text.animate.shift(LEFT * 1.0))\n",
    "        text2.next_to(text, RIGHT, buff=0.5)\n",
    "        self.play(Write(text2))\n",
    "        self.wait(3)\n",
    "\n",
    "        self.play(FadeOut(g), FadeOut(text), FadeOut(text2), FadeOut(title))\n"
   ]
  },
  {
   "cell_type": "code",
   "execution_count": null,
   "metadata": {},
   "outputs": [],
   "source": []
  }
 ],
 "metadata": {
  "kernelspec": {
   "display_name": "base",
   "language": "python",
   "name": "python3"
  },
  "language_info": {
   "codemirror_mode": {
    "name": "ipython",
    "version": 3
   },
   "file_extension": ".py",
   "mimetype": "text/x-python",
   "name": "python",
   "nbconvert_exporter": "python",
   "pygments_lexer": "ipython3",
   "version": "3.11.5"
  }
 },
 "nbformat": 4,
 "nbformat_minor": 2
}
