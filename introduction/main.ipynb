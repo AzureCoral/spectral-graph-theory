{
 "cells": [
  {
   "cell_type": "code",
   "execution_count": 77,
   "metadata": {},
   "outputs": [
    {
     "data": {
      "text/plain": [
       "TexTemplate(_body='', tex_compiler='latex', output_format='.dvi', documentclass='\\\\documentclass[preview, varwidth=150px]{standalone}', preamble='\\\\usepackage[english]{babel}\\n\\\\usepackage{amsmath}\\n\\\\usepackage{amssymb}\\n\\\\usepackage[charter]{mathdesign}', placeholder_text='YourTextHere', post_doc_commands='')"
      ]
     },
     "execution_count": 77,
     "metadata": {},
     "output_type": "execute_result"
    }
   ],
   "source": [
    "from manim import *\n",
    "from manim.utils import tex_templates\n",
    "import numpy as np\n",
    "\n",
    "config.media_width = \"75%\"\n",
    "config.verbosity = \"WARNING\"\n",
    "\n",
    "narrow_tex_template = TexTemplate(\n",
    "    documentclass=r\"\\documentclass[preview, varwidth=150px]{standalone}\"\n",
    ")\n",
    "narrow_tex_template.add_to_preamble(r\"\\usepackage[charter]{mathdesign}\")"
   ]
  },
  {
   "cell_type": "code",
   "execution_count": 16,
   "metadata": {},
   "outputs": [
    {
     "data": {
      "text/html": [
       "<pre style=\"white-space:pre;overflow-x:auto;line-height:normal;font-family:Menlo,'DejaVu Sans Mono',consolas,'Courier New',monospace\">Manim Community <span style=\"color: #008000; text-decoration-color: #008000\">v0.18.1</span>\n",
       "\n",
       "</pre>\n"
      ],
      "text/plain": [
       "Manim Community \u001b[32mv0.\u001b[0m\u001b[32m18.1\u001b[0m\n",
       "\n"
      ]
     },
     "metadata": {},
     "output_type": "display_data"
    },
    {
     "name": "stderr",
     "output_type": "stream",
     "text": [
      "                                                                                                                        \r"
     ]
    },
    {
     "data": {
      "text/html": [
       "<video src=\"media/jupyter/Introduction@2024-10-20@16-47-57.mp4\" controls autoplay loop style=\"max-width: 75%;\"  >\n",
       "      Your browser does not support the <code>video</code> element.\n",
       "    </video>"
      ],
      "text/plain": [
       "<IPython.core.display.Video object>"
      ]
     },
     "metadata": {},
     "output_type": "display_data"
    }
   ],
   "source": [
    "%%manim -qk Introduction\n",
    "\n",
    "import random\n",
    "\n",
    "class Introduction(Scene):\n",
    "    def construct(self):\n",
    "        vertices = [1, 2, 3, 4, 5, 6, 7, 8, 9, 10]\n",
    "        edges = [(1, 2), (1, 4), (2, 8), (2, 9), (3, 2), (4, 6), (1, 5), (3, 4), (3, 6), (4, 7), (4, 5), (5, 6),\n",
    "            (4, 9), (5, 8), (6, 7), (6, 10),\n",
    "            (7, 8), (8, 9), (10, 9), (10, 7), (10, 1)]\n",
    "\n",
    "        subset_vertices = list(random.sample(vertices, 5))\n",
    "        vertex_config = {v: {\"fill_color\": BLUE} for v in subset_vertices}\n",
    "\n",
    "        edge_config = {\n",
    "            e: {\"stroke_color\": BLUE if e[0] in subset_vertices and e[1] in subset_vertices else WHITE} for e in edges\n",
    "        }\n",
    "\n",
    "        g = Graph(\n",
    "            vertices, edges, layout=\"circular\", layout_scale=3, vertex_config=vertex_config, edge_config=edge_config\n",
    "        ).scale(0.7)\n",
    "        g.shift(UP * .75)\n",
    "\n",
    "        self.play(Write(g), run_time=3)\n",
    "        self.wait()\n",
    "\n",
    "#        g = Graph(vertices, edges, layout=\"circular\", layout_scale=3).scale(0.7)\n",
    "#        g.shift(UP * 0.5)\n",
    "#        self.play(Write(g), run_time=3)\n",
    "#        self.wait()\n",
    "\n",
    "        title = Text(\"Spectral and Algebraic Graph Theory\", font_size=36, color=BLUE).next_to(g, DOWN * 1.5)\n",
    "        author = Text(\"by Daniel Spielman\", font_size=30, color=WHITE).next_to(title, DOWN)\n",
    "\n",
    "        self.play(Write(title))\n",
    "        self.play(Write(author))\n",
    "        self.wait(2)\n",
    "        self.play(FadeOut(title), FadeOut(author), FadeOut(g))\n",
    "\n"
   ]
  },
  {
   "cell_type": "code",
   "execution_count": 34,
   "metadata": {},
   "outputs": [
    {
     "data": {
      "text/html": [
       "<pre style=\"white-space:pre;overflow-x:auto;line-height:normal;font-family:Menlo,'DejaVu Sans Mono',consolas,'Courier New',monospace\">Manim Community <span style=\"color: #008000; text-decoration-color: #008000\">v0.18.1</span>\n",
       "\n",
       "</pre>\n"
      ],
      "text/plain": [
       "Manim Community \u001b[32mv0.\u001b[0m\u001b[32m18.1\u001b[0m\n",
       "\n"
      ]
     },
     "metadata": {},
     "output_type": "display_data"
    },
    {
     "name": "stderr",
     "output_type": "stream",
     "text": [
      "                                                                                                                                                                                                                                                              \r"
     ]
    },
    {
     "data": {
      "text/html": [
       "<video src=\"media/jupyter/QuoteScene@2024-10-20@17-06-43.mp4\" controls autoplay loop style=\"max-width: 75%;\"  >\n",
       "      Your browser does not support the <code>video</code> element.\n",
       "    </video>"
      ],
      "text/plain": [
       "<IPython.core.display.Video object>"
      ]
     },
     "metadata": {},
     "output_type": "display_data"
    }
   ],
   "source": [
    "%%manim -qk QuoteScene\n",
    "\n",
    "class QuoteScene(Scene):\n",
    "    def construct(self):\n",
    "        quote = Text('\\\"Spectral - it somehow comes from the idea of the \\n' \n",
    "                     'spectrum of light as a combination of pure things \\n'\n",
    "                     '- where our matrix is broken down into pure \\n'\n",
    "                     'eigenvalues and eigenvectors\\\"', font_size=36,\n",
    "                     should_center=True, line_spacing=1.2, t2c={'pure': GREEN}).to_edge(UP, buff=2)\n",
    "        author = Text(\"- Gil Strang\", color=YELLOW, font_size=36).shift(RIGHT * 3.5 + DOWN)\n",
    "        self.play(Write(quote), run_time=9)\n",
    "        self.wait(3)\n",
    "        self.play(Write(author), run_time = 2)\n",
    "        self.wait(3)\n",
    "        self.play(FadeOut(quote), FadeOut(author))\n"
   ]
  },
  {
   "cell_type": "code",
   "execution_count": 113,
   "metadata": {},
   "outputs": [
    {
     "data": {
      "text/html": [
       "<pre style=\"white-space:pre;overflow-x:auto;line-height:normal;font-family:Menlo,'DejaVu Sans Mono',consolas,'Courier New',monospace\">Manim Community <span style=\"color: #008000; text-decoration-color: #008000\">v0.18.1</span>\n",
       "\n",
       "</pre>\n"
      ],
      "text/plain": [
       "Manim Community \u001b[32mv0.\u001b[0m\u001b[32m18.1\u001b[0m\n",
       "\n"
      ]
     },
     "metadata": {},
     "output_type": "display_data"
    },
    {
     "name": "stderr",
     "output_type": "stream",
     "text": [
      "                                                                                                         \r"
     ]
    },
    {
     "data": {
      "text/html": [
       "<video src=\"media/jupyter/SpectralTheorem@2024-10-21@00-52-40.mp4\" controls autoplay loop style=\"max-width: 75%;\"  >\n",
       "      Your browser does not support the <code>video</code> element.\n",
       "    </video>"
      ],
      "text/plain": [
       "<IPython.core.display.Video object>"
      ]
     },
     "metadata": {},
     "output_type": "display_data"
    }
   ],
   "source": [
    "%%manim -qk SpectralTheorem\n",
    "\n",
    "class SpectralTheorem(Scene):\n",
    "    def construct(self):\n",
    "        title = Text(\"The Spectral Theorem\", font_size=36).to_edge(UP, buff=2)\n",
    "        eigenvalue = MathTex(r\"\\lambda\").scale(3)\n",
    "        eigenvector = MathTex(r\"\\psi\").scale(3)\n",
    "        group = VGroup(eigenvalue, eigenvector).arrange(RIGHT)\n",
    "        group.move_to(ORIGIN)\n",
    "\n",
    "        self.play(Write(title), run_time = 3)\n",
    "        self.play(Write(group), run_time = 2)\n",
    "        self.wait(4)\n",
    "        self.play(FadeOut(title), FadeOut(group))"
   ]
  },
  {
   "cell_type": "code",
   "execution_count": 31,
   "metadata": {},
   "outputs": [
    {
     "data": {
      "text/html": [
       "<pre style=\"white-space:pre;overflow-x:auto;line-height:normal;font-family:Menlo,'DejaVu Sans Mono',consolas,'Courier New',monospace\">Manim Community <span style=\"color: #008000; text-decoration-color: #008000\">v0.18.1</span>\n",
       "\n",
       "</pre>\n"
      ],
      "text/plain": [
       "Manim Community \u001b[32mv0.\u001b[0m\u001b[32m18.1\u001b[0m\n",
       "\n"
      ]
     },
     "metadata": {},
     "output_type": "display_data"
    },
    {
     "name": "stderr",
     "output_type": "stream",
     "text": [
      "                                                                                                         \r"
     ]
    },
    {
     "data": {
      "text/html": [
       "<video src=\"media/jupyter/Laplacian@2024-10-20@17-04-16.mp4\" controls autoplay loop style=\"max-width: 75%;\"  >\n",
       "      Your browser does not support the <code>video</code> element.\n",
       "    </video>"
      ],
      "text/plain": [
       "<IPython.core.display.Video object>"
      ]
     },
     "metadata": {},
     "output_type": "display_data"
    }
   ],
   "source": [
    "%%manim -qk Laplacian\n",
    "\n",
    "class Laplacian(Scene):\n",
    "    def construct(self):\n",
    "        title = Text(\"The Laplacian Matrix\", font_size=36).to_edge(UP, buff=2)\n",
    "        L = MathTex(r\"L\").scale(3)\n",
    "\n",
    "        self.play(Write(title), run_time = 3)\n",
    "        self.play(Write(L), run_time = 2)\n",
    "        self.wait(4)\n",
    "        self.play(FadeOut(title), FadeOut(L))"
   ]
  },
  {
   "cell_type": "code",
   "execution_count": 32,
   "metadata": {},
   "outputs": [
    {
     "data": {
      "text/html": [
       "<pre style=\"white-space:pre;overflow-x:auto;line-height:normal;font-family:Menlo,'DejaVu Sans Mono',consolas,'Courier New',monospace\">Manim Community <span style=\"color: #008000; text-decoration-color: #008000\">v0.18.1</span>\n",
       "\n",
       "</pre>\n"
      ],
      "text/plain": [
       "Manim Community \u001b[32mv0.\u001b[0m\u001b[32m18.1\u001b[0m\n",
       "\n"
      ]
     },
     "metadata": {},
     "output_type": "display_data"
    },
    {
     "name": "stderr",
     "output_type": "stream",
     "text": [
      "                                                                                                                        \r"
     ]
    },
    {
     "data": {
      "text/html": [
       "<video src=\"media/jupyter/IsoperimetricConductance@2024-10-20@17-04-33.mp4\" controls autoplay loop style=\"max-width: 75%;\"  >\n",
       "      Your browser does not support the <code>video</code> element.\n",
       "    </video>"
      ],
      "text/plain": [
       "<IPython.core.display.Video object>"
      ]
     },
     "metadata": {},
     "output_type": "display_data"
    }
   ],
   "source": [
    "%%manim -qk IsoperimetricConductance\n",
    "\n",
    "class IsoperimetricConductance(Scene):\n",
    "    def construct(self):\n",
    "        title = Text(\"Isoperimetric Ratio and Conductance\", font_size=36).to_edge(UP, buff=2)\n",
    "        isoperimetric = MathTex(r\"\\theta\").scale(3)\n",
    "        conductance = MathTex(r\"\\phi\").scale(3)\n",
    "        group = VGroup(isoperimetric, conductance).arrange(RIGHT)\n",
    "        group.move_to(ORIGIN)\n",
    "\n",
    "        self.play(Write(title), run_time = 3)\n",
    "        self.play(Write(group), run_time = 2)\n",
    "        self.wait(4)\n",
    "        self.play(FadeOut(title), FadeOut(group))"
   ]
  },
  {
   "cell_type": "code",
   "execution_count": 51,
   "metadata": {},
   "outputs": [
    {
     "data": {
      "text/html": [
       "<pre style=\"white-space:pre;overflow-x:auto;line-height:normal;font-family:Menlo,'DejaVu Sans Mono',consolas,'Courier New',monospace\">Manim Community <span style=\"color: #008000; text-decoration-color: #008000\">v0.18.1</span>\n",
       "\n",
       "</pre>\n"
      ],
      "text/plain": [
       "Manim Community \u001b[32mv0.\u001b[0m\u001b[32m18.1\u001b[0m\n",
       "\n"
      ]
     },
     "metadata": {},
     "output_type": "display_data"
    },
    {
     "name": "stderr",
     "output_type": "stream",
     "text": [
      "                                                                                                       \r"
     ]
    },
    {
     "data": {
      "text/html": [
       "<video src=\"media/jupyter/Application@2024-10-20@17-54-11.mp4\" controls autoplay loop style=\"max-width: 75%;\"  >\n",
       "      Your browser does not support the <code>video</code> element.\n",
       "    </video>"
      ],
      "text/plain": [
       "<IPython.core.display.Video object>"
      ]
     },
     "metadata": {},
     "output_type": "display_data"
    }
   ],
   "source": [
    "%%manim -qk Application\n",
    "\n",
    "class Application(Scene):\n",
    "    def construct(self):\n",
    "        title = Text(\"Application & Motivation\", font_size=36)\n",
    "\n",
    "        self.play(Write(title), run_time = 4)\n",
    "        self.wait(5)\n",
    "        self.play(FadeOut(title))"
   ]
  },
  {
   "cell_type": "code",
   "execution_count": 40,
   "metadata": {},
   "outputs": [
    {
     "data": {
      "text/html": [
       "<pre style=\"white-space:pre;overflow-x:auto;line-height:normal;font-family:Menlo,'DejaVu Sans Mono',consolas,'Courier New',monospace\">Manim Community <span style=\"color: #008000; text-decoration-color: #008000\">v0.18.1</span>\n",
       "\n",
       "</pre>\n"
      ],
      "text/plain": [
       "Manim Community \u001b[32mv0.\u001b[0m\u001b[32m18.1\u001b[0m\n",
       "\n"
      ]
     },
     "metadata": {},
     "output_type": "display_data"
    },
    {
     "name": "stderr",
     "output_type": "stream",
     "text": [
      "                                                                                                                                                 \r"
     ]
    },
    {
     "data": {
      "text/html": [
       "<video src=\"media/jupyter/Code@2024-10-20@17-27-32.mp4\" controls autoplay loop style=\"max-width: 75%;\"  >\n",
       "      Your browser does not support the <code>video</code> element.\n",
       "    </video>"
      ],
      "text/plain": [
       "<IPython.core.display.Video object>"
      ]
     },
     "metadata": {},
     "output_type": "display_data"
    }
   ],
   "source": [
    "%%manim -qk Code\n",
    "\n",
    "class Code(Scene):\n",
    "    def construct(self):\n",
    "        link = Tex(r\"https://github.com/AzureCoral/spectral-graph-theory\", color=BLUE).scale(0.7)\n",
    "        title = Tex(r\"You can see our code for the animations and simulations here:\").next_to(link, UP).scale(0.7)\n",
    "\n",
    "        self.play(Write(title), run_time = 3)\n",
    "        self.play(Write(link), run_time = 2)\n",
    "        self.wait(4)\n",
    "        self.play(FadeOut(title), FadeOut(link))"
   ]
  },
  {
   "cell_type": "code",
   "execution_count": 114,
   "metadata": {},
   "outputs": [
    {
     "data": {
      "text/html": [
       "<pre style=\"white-space:pre;overflow-x:auto;line-height:normal;font-family:Menlo,'DejaVu Sans Mono',consolas,'Courier New',monospace\">Manim Community <span style=\"color: #008000; text-decoration-color: #008000\">v0.18.1</span>\n",
       "\n",
       "</pre>\n"
      ],
      "text/plain": [
       "Manim Community \u001b[32mv0.\u001b[0m\u001b[32m18.1\u001b[0m\n",
       "\n"
      ]
     },
     "metadata": {},
     "output_type": "display_data"
    },
    {
     "name": "stderr",
     "output_type": "stream",
     "text": [
      "                                                                                              \r"
     ]
    },
    {
     "data": {
      "text/html": [
       "<video src=\"media/jupyter/TableOfContents@2024-10-21@00-53-39.mp4\" controls autoplay loop style=\"max-width: 75%;\"  >\n",
       "      Your browser does not support the <code>video</code> element.\n",
       "    </video>"
      ],
      "text/plain": [
       "<IPython.core.display.Video object>"
      ]
     },
     "metadata": {},
     "output_type": "display_data"
    }
   ],
   "source": [
    "%%manim -qk TableOfContents\n",
    "\n",
    "import random\n",
    "\n",
    "class TableOfContents(Scene):\n",
    "    def construct(self):\n",
    "\n",
    "        eigenvalue = MathTex(r\"\\lambda\").scale(1.5)\n",
    "        eigenvector = MathTex(r\"\\psi\").scale(1.5)\n",
    "\n",
    "        L = MathTex(r\"L\").scale(3)\n",
    "\n",
    "        isoperimetric = MathTex(r\"\\theta\").scale(1.5)\n",
    "        conductance = MathTex(r\"\\phi\").scale(1.5)\n",
    "\n",
    "        vertices = [1, 2, 3, 4, 5, 6, 7, 8, 9, 10]\n",
    "\n",
    "        def make_edges(K_1, K_2, connecting_edges):\n",
    "            edges = []\n",
    "            for i in range(K_1):\n",
    "                for j in range(i + 1, K_1):\n",
    "                    edges.append((i + 1, j + 1))\n",
    "\n",
    "            for i in range(K_2):\n",
    "                for j in range(i + 1, K_2):\n",
    "                    edges.append((i + K_1 + 1, j + K_1 + 1))\n",
    "\n",
    "            for i in range(connecting_edges):\n",
    "                edges.append((random.choice(range(1, K_1 + 1)), random.choice(range(K_1 + 1, K_1 + K_2 + 1))))\n",
    "\n",
    "            return edges\n",
    "\n",
    "        edges = make_edges(3, 7, 2)\n",
    "\n",
    "        g = Graph(\n",
    "            vertices, edges, layout=\"circular\", layout_scale=3\n",
    "        ).scale(0.3)\n",
    "            \n",
    "\n",
    "        contents = [\n",
    "            VGroup(eigenvalue, Text(r\"&\").scale(.4), eigenvector).arrange(RIGHT),\n",
    "            VGroup(L),\n",
    "            VGroup(isoperimetric, Text(r\"&\").scale(.4), conductance).arrange(RIGHT),\n",
    "            VGroup(g)\n",
    "        ]\n",
    "\n",
    "        boxes = VGroup(*[\n",
    "            VGroup(Square(side_length=3, color=WHITE).set_fill(BLUE, opacity=0.5).set_stroke(WHITE, width=2), content)\n",
    "            for content in contents\n",
    "        ])\n",
    "\n",
    "        boxes.arrange_in_grid()\n",
    "\n",
    "        for box in boxes:\n",
    "            self.play(Write(box), run_time=2)\n",
    "            self.wait(5)\n",
    "\n",
    "        self.wait(5)\n",
    "\n",
    "        self.play(FadeOut(boxes))"
   ]
  },
  {
   "cell_type": "code",
   "execution_count": 58,
   "metadata": {},
   "outputs": [
    {
     "data": {
      "text/html": [
       "<pre style=\"white-space:pre;overflow-x:auto;line-height:normal;font-family:Menlo,'DejaVu Sans Mono',consolas,'Courier New',monospace\">Manim Community <span style=\"color: #008000; text-decoration-color: #008000\">v0.18.1</span>\n",
       "\n",
       "</pre>\n"
      ],
      "text/plain": [
       "Manim Community \u001b[32mv0.\u001b[0m\u001b[32m18.1\u001b[0m\n",
       "\n"
      ]
     },
     "metadata": {},
     "output_type": "display_data"
    },
    {
     "name": "stderr",
     "output_type": "stream",
     "text": [
      "                                                                                                                   \r"
     ]
    },
    {
     "data": {
      "text/html": [
       "<video src=\"media/jupyter/BottleNeck@2024-10-20@23-28-02.mp4\" controls autoplay loop style=\"max-width: 75%;\"  >\n",
       "      Your browser does not support the <code>video</code> element.\n",
       "    </video>"
      ],
      "text/plain": [
       "<IPython.core.display.Video object>"
      ]
     },
     "metadata": {},
     "output_type": "display_data"
    }
   ],
   "source": [
    "%%manim -qk BottleNeck\n",
    "\n",
    "import random\n",
    "\n",
    "class BottleNeck(Scene):\n",
    "    def construct(self):\n",
    "        vertices = list(range(1, 12 + 1))\n",
    "\n",
    "        def make_edges(K_1, K_2, connecting_edges):\n",
    "            edges = []\n",
    "            for i in range(K_1):\n",
    "                for j in range(i + 1, K_1):\n",
    "                    edges.append((i + 1, j + 1))\n",
    "\n",
    "            for i in range(K_2):\n",
    "                for j in range(i + 1, K_2):\n",
    "                    edges.append((i + K_1 + 1, j + K_1 + 1))\n",
    "\n",
    "            for i in range(connecting_edges):\n",
    "                edges.append((random.choice(range(1, K_1 + 1)), random.choice(range(K_1 + 1, K_1 + K_2 + 1))))\n",
    "\n",
    "            return edges\n",
    "\n",
    "        edges = make_edges(7, 5, 2)\n",
    "\n",
    "        g = Graph(\n",
    "            vertices, edges, layout=\"kamada_kawai\", layout_scale=3\n",
    "        ).scale(0.7)\n",
    "            \n",
    "\n",
    "        self.play(Write(g), run_time=3)\n",
    "\n",
    "        self.wait(2)\n",
    "\n",
    "        self.play(FadeOut(g))"
   ]
  },
  {
   "cell_type": "code",
   "execution_count": 70,
   "metadata": {},
   "outputs": [
    {
     "data": {
      "text/html": [
       "<pre style=\"white-space:pre;overflow-x:auto;line-height:normal;font-family:Menlo,'DejaVu Sans Mono',consolas,'Courier New',monospace\">Manim Community <span style=\"color: #008000; text-decoration-color: #008000\">v0.18.1</span>\n",
       "\n",
       "</pre>\n"
      ],
      "text/plain": [
       "Manim Community \u001b[32mv0.\u001b[0m\u001b[32m18.1\u001b[0m\n",
       "\n"
      ]
     },
     "metadata": {},
     "output_type": "display_data"
    },
    {
     "name": "stderr",
     "output_type": "stream",
     "text": [
      "                                                                                                                   \r"
     ]
    },
    {
     "data": {
      "text/html": [
       "<video src=\"media/jupyter/Community@2024-10-20@23-39-22.mp4\" controls autoplay loop style=\"max-width: 75%;\"  >\n",
       "      Your browser does not support the <code>video</code> element.\n",
       "    </video>"
      ],
      "text/plain": [
       "<IPython.core.display.Video object>"
      ]
     },
     "metadata": {},
     "output_type": "display_data"
    }
   ],
   "source": [
    "%%manim -qk Community\n",
    "\n",
    "import random\n",
    "\n",
    "class Community(Scene):\n",
    "    def construct(self):\n",
    "\n",
    "        def make_edges(num_k, connecting_edges):\n",
    "            edges = []\n",
    "            cur_num = 0\n",
    "\n",
    "            for k in range(num_k):\n",
    "                number_vertices = random.randint(3, 7)\n",
    "                for i in range(number_vertices):\n",
    "                    for j in range(i + 1, number_vertices):\n",
    "                        edges.append((cur_num + i + 1, cur_num + j + 1))\n",
    "                cur_num += number_vertices\n",
    "\n",
    "            for i in range(connecting_edges):\n",
    "                edges.append((random.choice(range(1, cur_num + 1)), random.choice(range(1, cur_num + 1))))\n",
    "\n",
    "            return edges, list(range(1, cur_num + 1))\n",
    "\n",
    "        edges, vertices = make_edges(3, 4)\n",
    "\n",
    "        g = Graph(\n",
    "            vertices, edges, layout=\"kamada_kawai\", layout_scale=3\n",
    "        )\n",
    "            \n",
    "\n",
    "        self.play(Write(g), run_time=3)\n",
    "\n",
    "        self.wait(2)\n",
    "\n",
    "        self.play(FadeOut(g))"
   ]
  },
  {
   "cell_type": "code",
   "execution_count": 112,
   "metadata": {},
   "outputs": [
    {
     "data": {
      "text/html": [
       "<pre style=\"white-space:pre;overflow-x:auto;line-height:normal;font-family:Menlo,'DejaVu Sans Mono',consolas,'Courier New',monospace\">Manim Community <span style=\"color: #008000; text-decoration-color: #008000\">v0.18.1</span>\n",
       "\n",
       "</pre>\n"
      ],
      "text/plain": [
       "Manim Community \u001b[32mv0.\u001b[0m\u001b[32m18.1\u001b[0m\n",
       "\n"
      ]
     },
     "metadata": {},
     "output_type": "display_data"
    },
    {
     "name": "stderr",
     "output_type": "stream",
     "text": [
      "                                                                                                                         \r"
     ]
    },
    {
     "data": {
      "text/html": [
       "<video src=\"media/jupyter/HeatTransfer@2024-10-21@00-16-32.mp4\" controls autoplay loop style=\"max-width: 75%;\"  >\n",
       "      Your browser does not support the <code>video</code> element.\n",
       "    </video>"
      ],
      "text/plain": [
       "<IPython.core.display.Video object>"
      ]
     },
     "metadata": {},
     "output_type": "display_data"
    }
   ],
   "source": [
    "%%manim -qk HeatTransfer\n",
    "import random\n",
    "\n",
    "\n",
    "class HeatTransfer(Scene):\n",
    "    def construct(self):\n",
    "        vertices = list(range(1, 20 + 1))\n",
    "        def make_random_edges(num_vertices, num_edges):\n",
    "            edges = []\n",
    "            for _ in range(num_edges):\n",
    "                u = random.randint(1, num_vertices)\n",
    "                v = random.randint(1, num_vertices)\n",
    "                while u == v or (u, v) in edges or (v, u) in edges:\n",
    "                    u = random.randint(1, num_vertices)\n",
    "                    v = random.randint(1, num_vertices)\n",
    "                weight = random.gauss(0.5, 0.1)\n",
    "                edges.append((u, v, weight))\n",
    "            return edges\n",
    "\n",
    "        edges = make_random_edges(20, 30)\n",
    "\n",
    "        edge_config = {\n",
    "            (u, v): {\"stroke_width\": 5 * w} for u, v, w in edges\n",
    "        }\n",
    "\n",
    "        g = Graph(\n",
    "            vertices, [(u, v) for u, v, w in edges], layout=\"kamada_kawai\", layout_scale=3, edge_config=edge_config\n",
    "        ).scale(0.7)\n",
    "\n",
    "        heat = {v: 0 for v in vertices}\n",
    "        heat[1] = 1 \n",
    "\n",
    "        def update_heat(heat):\n",
    "            new_heat = heat.copy()\n",
    "            for u, v, w in edges:\n",
    "                new_heat[v] += (w * heat[u]) * .15\n",
    "                new_heat[u] += (w * heat[v]) * .15\n",
    "            return new_heat\n",
    "\n",
    "        def update_vertices(graph, heat):\n",
    "            for v in vertices:\n",
    "                color = interpolate_color(WHITE, ORANGE, heat[v])\n",
    "                graph[v].set_fill(color, opacity=0.8)\n",
    "\n",
    "        self.play(Write(g))\n",
    "        self.wait(1)\n",
    "\n",
    "        for _ in range(50):  # Number of iterations for heat transfer\n",
    "            heat = update_heat(heat)\n",
    "            update_vertices(g, heat)\n",
    "            self.play(UpdateFromFunc(g, lambda g: g), run_time=0.05)\n",
    "\n",
    "        self.wait(2)\n",
    "        self.play(FadeOut(g))"
   ]
  },
  {
   "cell_type": "code",
   "execution_count": null,
   "metadata": {},
   "outputs": [],
   "source": []
  }
 ],
 "metadata": {
  "language_info": {
   "name": "python"
  }
 },
 "nbformat": 4,
 "nbformat_minor": 2
}
